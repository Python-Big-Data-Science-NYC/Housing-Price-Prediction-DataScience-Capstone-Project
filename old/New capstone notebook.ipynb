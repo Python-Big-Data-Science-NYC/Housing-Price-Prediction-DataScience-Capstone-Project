{
 "cells": [
  {
   "cell_type": "code",
   "execution_count": 1,
   "metadata": {},
   "outputs": [],
   "source": [
    "from sklearn.decomposition import PCA\n",
    "import numpy as np\n",
    "import matplotlib.pyplot as plt\n",
    "import seaborn as sns\n",
    "import pandas as pd\n",
    "%matplotlib inline"
   ]
  },
  {
   "cell_type": "code",
   "execution_count": 2,
   "metadata": {},
   "outputs": [],
   "source": [
    "popdf=pd.read_pickle('mergeddfclean.p')"
   ]
  },
  {
   "cell_type": "code",
   "execution_count": 3,
   "metadata": {},
   "outputs": [],
   "source": [
    "#remove the top percentiles from the price changed a lot, and then create a new column\n",
    "#where 0 is price != increase, and 1 is price increased, run a logistic regression and see what\n",
    "q = popdf[\"price\"].quantile(0.98)\n",
    "popdf = popdf[popdf[\"price\"] < q]\n",
    "\n",
    "q = popdf[\"price\"].quantile(0.02)\n",
    "popdf  = popdf[popdf[\"price\"] > q]\n"
   ]
  },
  {
   "cell_type": "code",
   "execution_count": 4,
   "metadata": {},
   "outputs": [
    {
     "name": "stdout",
     "output_type": "stream",
     "text": [
      "<class 'pandas.core.frame.DataFrame'>\n",
      "Int64Index: 190 entries, 0 to 189\n",
      "Data columns (total 5 columns):\n",
      "mortgrate    190 non-null float64\n",
      "unemp        190 non-null float64\n",
      "month        190 non-null int64\n",
      "year         190 non-null int64\n",
      "cpi          189 non-null float64\n",
      "dtypes: float64(3), int64(2)\n",
      "memory usage: 8.9 KB\n"
     ]
    },
    {
     "data": {
      "text/html": [
       "<div>\n",
       "<style scoped>\n",
       "    .dataframe tbody tr th:only-of-type {\n",
       "        vertical-align: middle;\n",
       "    }\n",
       "\n",
       "    .dataframe tbody tr th {\n",
       "        vertical-align: top;\n",
       "    }\n",
       "\n",
       "    .dataframe thead th {\n",
       "        text-align: right;\n",
       "    }\n",
       "</style>\n",
       "<table border=\"1\" class=\"dataframe\">\n",
       "  <thead>\n",
       "    <tr style=\"text-align: right;\">\n",
       "      <th></th>\n",
       "      <th>mortgrate</th>\n",
       "      <th>unemp</th>\n",
       "      <th>month</th>\n",
       "      <th>year</th>\n",
       "      <th>cpi</th>\n",
       "    </tr>\n",
       "  </thead>\n",
       "  <tbody>\n",
       "    <tr>\n",
       "      <th>count</th>\n",
       "      <td>190.000000</td>\n",
       "      <td>190.000000</td>\n",
       "      <td>190.000000</td>\n",
       "      <td>190.000000</td>\n",
       "      <td>189.000000</td>\n",
       "    </tr>\n",
       "    <tr>\n",
       "      <th>mean</th>\n",
       "      <td>-0.003676</td>\n",
       "      <td>0.001663</td>\n",
       "      <td>6.457895</td>\n",
       "      <td>2008.336842</td>\n",
       "      <td>0.001742</td>\n",
       "    </tr>\n",
       "    <tr>\n",
       "      <th>std</th>\n",
       "      <td>0.033807</td>\n",
       "      <td>0.026861</td>\n",
       "      <td>3.454284</td>\n",
       "      <td>4.588023</td>\n",
       "      <td>0.004021</td>\n",
       "    </tr>\n",
       "    <tr>\n",
       "      <th>min</th>\n",
       "      <td>-0.124795</td>\n",
       "      <td>-0.060000</td>\n",
       "      <td>1.000000</td>\n",
       "      <td>2000.000000</td>\n",
       "      <td>-0.019153</td>\n",
       "    </tr>\n",
       "    <tr>\n",
       "      <th>25%</th>\n",
       "      <td>-0.025196</td>\n",
       "      <td>-0.018182</td>\n",
       "      <td>3.250000</td>\n",
       "      <td>2004.000000</td>\n",
       "      <td>-0.000976</td>\n",
       "    </tr>\n",
       "    <tr>\n",
       "      <th>50%</th>\n",
       "      <td>-0.007365</td>\n",
       "      <td>0.000000</td>\n",
       "      <td>6.000000</td>\n",
       "      <td>2008.000000</td>\n",
       "      <td>0.001966</td>\n",
       "    </tr>\n",
       "    <tr>\n",
       "      <th>75%</th>\n",
       "      <td>0.011312</td>\n",
       "      <td>0.017779</td>\n",
       "      <td>9.000000</td>\n",
       "      <td>2012.000000</td>\n",
       "      <td>0.004462</td>\n",
       "    </tr>\n",
       "    <tr>\n",
       "      <th>max</th>\n",
       "      <td>0.149718</td>\n",
       "      <td>0.080000</td>\n",
       "      <td>12.000000</td>\n",
       "      <td>2016.000000</td>\n",
       "      <td>0.012220</td>\n",
       "    </tr>\n",
       "  </tbody>\n",
       "</table>\n",
       "</div>"
      ],
      "text/plain": [
       "        mortgrate       unemp       month         year         cpi\n",
       "count  190.000000  190.000000  190.000000   190.000000  189.000000\n",
       "mean    -0.003676    0.001663    6.457895  2008.336842    0.001742\n",
       "std      0.033807    0.026861    3.454284     4.588023    0.004021\n",
       "min     -0.124795   -0.060000    1.000000  2000.000000   -0.019153\n",
       "25%     -0.025196   -0.018182    3.250000  2004.000000   -0.000976\n",
       "50%     -0.007365    0.000000    6.000000  2008.000000    0.001966\n",
       "75%      0.011312    0.017779    9.000000  2012.000000    0.004462\n",
       "max      0.149718    0.080000   12.000000  2016.000000    0.012220"
      ]
     },
     "execution_count": 4,
     "metadata": {},
     "output_type": "execute_result"
    }
   ],
   "source": [
    "import pandas as pd\n",
    "import seaborn as sns\n",
    "rates=pd.read_pickle('mortunempcpi.p')\n",
    "rates.info()\n",
    "rates.describe()"
   ]
  },
  {
   "cell_type": "code",
   "execution_count": 5,
   "metadata": {},
   "outputs": [
    {
     "data": {
      "text/html": [
       "<div>\n",
       "<style scoped>\n",
       "    .dataframe tbody tr th:only-of-type {\n",
       "        vertical-align: middle;\n",
       "    }\n",
       "\n",
       "    .dataframe tbody tr th {\n",
       "        vertical-align: top;\n",
       "    }\n",
       "\n",
       "    .dataframe thead th {\n",
       "        text-align: right;\n",
       "    }\n",
       "</style>\n",
       "<table border=\"1\" class=\"dataframe\">\n",
       "  <thead>\n",
       "    <tr style=\"text-align: right;\">\n",
       "      <th></th>\n",
       "      <th>mortgrate</th>\n",
       "      <th>unemp</th>\n",
       "      <th>month</th>\n",
       "      <th>year</th>\n",
       "      <th>cpi</th>\n",
       "    </tr>\n",
       "    <tr>\n",
       "      <th>period</th>\n",
       "      <th></th>\n",
       "      <th></th>\n",
       "      <th></th>\n",
       "      <th></th>\n",
       "      <th></th>\n",
       "    </tr>\n",
       "  </thead>\n",
       "  <tbody>\n",
       "    <tr>\n",
       "      <th>2000-12-01</th>\n",
       "      <td>-0.047742</td>\n",
       "      <td>0.000000</td>\n",
       "      <td>12</td>\n",
       "      <td>2000</td>\n",
       "      <td>NaN</td>\n",
       "    </tr>\n",
       "    <tr>\n",
       "      <th>2001-01-01</th>\n",
       "      <td>-0.047425</td>\n",
       "      <td>0.076923</td>\n",
       "      <td>1</td>\n",
       "      <td>2001</td>\n",
       "      <td>0.006322</td>\n",
       "    </tr>\n",
       "    <tr>\n",
       "      <th>2001-02-01</th>\n",
       "      <td>0.002845</td>\n",
       "      <td>0.000000</td>\n",
       "      <td>2</td>\n",
       "      <td>2001</td>\n",
       "      <td>0.003998</td>\n",
       "    </tr>\n",
       "    <tr>\n",
       "      <th>2001-03-01</th>\n",
       "      <td>-0.014184</td>\n",
       "      <td>0.023810</td>\n",
       "      <td>3</td>\n",
       "      <td>2001</td>\n",
       "      <td>0.002275</td>\n",
       "    </tr>\n",
       "    <tr>\n",
       "      <th>2001-04-01</th>\n",
       "      <td>0.018705</td>\n",
       "      <td>0.023256</td>\n",
       "      <td>4</td>\n",
       "      <td>2001</td>\n",
       "      <td>0.003973</td>\n",
       "    </tr>\n",
       "  </tbody>\n",
       "</table>\n",
       "</div>"
      ],
      "text/plain": [
       "            mortgrate     unemp  month  year       cpi\n",
       "period                                                \n",
       "2000-12-01  -0.047742  0.000000     12  2000       NaN\n",
       "2001-01-01  -0.047425  0.076923      1  2001  0.006322\n",
       "2001-02-01   0.002845  0.000000      2  2001  0.003998\n",
       "2001-03-01  -0.014184  0.023810      3  2001  0.002275\n",
       "2001-04-01   0.018705  0.023256      4  2001  0.003973"
      ]
     },
     "execution_count": 5,
     "metadata": {},
     "output_type": "execute_result"
    }
   ],
   "source": [
    "rates[\"period\"] = rates[\"year\"].map(str) + '-' + rates[\"month\"].map(str)\n",
    "rates['period'] =  pd.to_datetime(rates['period'], format='%Y-%m')\n",
    "rates.set_index('period', inplace=True)\n",
    "#rates['period'].reset_index()\n",
    "rates.head()"
   ]
  },
  {
   "cell_type": "code",
   "execution_count": 6,
   "metadata": {},
   "outputs": [],
   "source": [
    "popdf.columns\n",
    "popdf.set_index('Year', inplace=True)\n",
    "popdf['month'] = pd.DatetimeIndex(popdf.index).month\n",
    "popdf['year']=pd.DatetimeIndex(popdf.index).year"
   ]
  },
  {
   "cell_type": "code",
   "execution_count": 7,
   "metadata": {},
   "outputs": [
    {
     "name": "stdout",
     "output_type": "stream",
     "text": [
      "(9320, 13)\n"
     ]
    }
   ],
   "source": [
    "ratespop=pd.merge(rates, popdf, how='inner', left_on=['month', 'year'],right_on=['month', 'year'])\n",
    "print(ratespop.shape)\n",
    "ratespop2=ratespop.drop('year', axis=1)\n",
    "ratespop2=ratespop2.drop('month', axis=1)\n",
    "ratespop2=ratespop2.drop('county', axis=1)\n",
    "ratespop2=ratespop2.drop('price', axis=1)"
   ]
  },
  {
   "cell_type": "code",
   "execution_count": 8,
   "metadata": {},
   "outputs": [
    {
     "data": {
      "text/html": [
       "<div>\n",
       "<style scoped>\n",
       "    .dataframe tbody tr th:only-of-type {\n",
       "        vertical-align: middle;\n",
       "    }\n",
       "\n",
       "    .dataframe tbody tr th {\n",
       "        vertical-align: top;\n",
       "    }\n",
       "\n",
       "    .dataframe thead th {\n",
       "        text-align: right;\n",
       "    }\n",
       "</style>\n",
       "<table border=\"1\" class=\"dataframe\">\n",
       "  <thead>\n",
       "    <tr style=\"text-align: right;\">\n",
       "      <th></th>\n",
       "      <th>mortgrate</th>\n",
       "      <th>unemp</th>\n",
       "      <th>cpi</th>\n",
       "      <th>RDEATH2016</th>\n",
       "      <th>RNETMIG2016</th>\n",
       "      <th>RNATURALINC2016</th>\n",
       "      <th>RINTERNATIONALMIG2016</th>\n",
       "      <th>RDOMESTICMIG2016</th>\n",
       "      <th>RBIRTH2016</th>\n",
       "    </tr>\n",
       "  </thead>\n",
       "  <tbody>\n",
       "    <tr>\n",
       "      <th>mortgrate</th>\n",
       "      <td>1.000000</td>\n",
       "      <td>-0.196445</td>\n",
       "      <td>0.787337</td>\n",
       "      <td>-0.034643</td>\n",
       "      <td>-0.043474</td>\n",
       "      <td>0.023922</td>\n",
       "      <td>-0.054041</td>\n",
       "      <td>-0.033806</td>\n",
       "      <td>0.003776</td>\n",
       "    </tr>\n",
       "    <tr>\n",
       "      <th>unemp</th>\n",
       "      <td>-0.196445</td>\n",
       "      <td>1.000000</td>\n",
       "      <td>-0.734586</td>\n",
       "      <td>0.041237</td>\n",
       "      <td>-0.002148</td>\n",
       "      <td>-0.027799</td>\n",
       "      <td>0.013611</td>\n",
       "      <td>-0.004671</td>\n",
       "      <td>-0.003367</td>\n",
       "    </tr>\n",
       "    <tr>\n",
       "      <th>cpi</th>\n",
       "      <td>0.787337</td>\n",
       "      <td>-0.734586</td>\n",
       "      <td>1.000000</td>\n",
       "      <td>-0.046036</td>\n",
       "      <td>-0.031679</td>\n",
       "      <td>0.030251</td>\n",
       "      <td>-0.039785</td>\n",
       "      <td>-0.024559</td>\n",
       "      <td>0.002454</td>\n",
       "    </tr>\n",
       "    <tr>\n",
       "      <th>RDEATH2016</th>\n",
       "      <td>-0.034643</td>\n",
       "      <td>0.041237</td>\n",
       "      <td>-0.046036</td>\n",
       "      <td>1.000000</td>\n",
       "      <td>-0.163762</td>\n",
       "      <td>-0.824252</td>\n",
       "      <td>-0.443752</td>\n",
       "      <td>-0.083083</td>\n",
       "      <td>-0.331764</td>\n",
       "    </tr>\n",
       "    <tr>\n",
       "      <th>RNETMIG2016</th>\n",
       "      <td>-0.043474</td>\n",
       "      <td>-0.002148</td>\n",
       "      <td>-0.031679</td>\n",
       "      <td>-0.163762</td>\n",
       "      <td>1.000000</td>\n",
       "      <td>0.038587</td>\n",
       "      <td>0.127528</td>\n",
       "      <td>0.983157</td>\n",
       "      <td>-0.106269</td>\n",
       "    </tr>\n",
       "    <tr>\n",
       "      <th>RNATURALINC2016</th>\n",
       "      <td>0.023922</td>\n",
       "      <td>-0.027799</td>\n",
       "      <td>0.030251</td>\n",
       "      <td>-0.824252</td>\n",
       "      <td>0.038587</td>\n",
       "      <td>1.000000</td>\n",
       "      <td>0.413095</td>\n",
       "      <td>-0.037277</td>\n",
       "      <td>0.807610</td>\n",
       "    </tr>\n",
       "    <tr>\n",
       "      <th>RINTERNATIONALMIG2016</th>\n",
       "      <td>-0.054041</td>\n",
       "      <td>0.013611</td>\n",
       "      <td>-0.039785</td>\n",
       "      <td>-0.443752</td>\n",
       "      <td>0.127528</td>\n",
       "      <td>0.413095</td>\n",
       "      <td>1.000000</td>\n",
       "      <td>-0.055890</td>\n",
       "      <td>0.226079</td>\n",
       "    </tr>\n",
       "    <tr>\n",
       "      <th>RDOMESTICMIG2016</th>\n",
       "      <td>-0.033806</td>\n",
       "      <td>-0.004671</td>\n",
       "      <td>-0.024559</td>\n",
       "      <td>-0.083083</td>\n",
       "      <td>0.983157</td>\n",
       "      <td>-0.037277</td>\n",
       "      <td>-0.055890</td>\n",
       "      <td>1.000000</td>\n",
       "      <td>-0.148635</td>\n",
       "    </tr>\n",
       "    <tr>\n",
       "      <th>RBIRTH2016</th>\n",
       "      <td>0.003776</td>\n",
       "      <td>-0.003367</td>\n",
       "      <td>0.002454</td>\n",
       "      <td>-0.331764</td>\n",
       "      <td>-0.106269</td>\n",
       "      <td>0.807610</td>\n",
       "      <td>0.226079</td>\n",
       "      <td>-0.148635</td>\n",
       "      <td>1.000000</td>\n",
       "    </tr>\n",
       "  </tbody>\n",
       "</table>\n",
       "</div>"
      ],
      "text/plain": [
       "                       mortgrate     unemp       cpi  RDEATH2016  RNETMIG2016  \\\n",
       "mortgrate               1.000000 -0.196445  0.787337   -0.034643    -0.043474   \n",
       "unemp                  -0.196445  1.000000 -0.734586    0.041237    -0.002148   \n",
       "cpi                     0.787337 -0.734586  1.000000   -0.046036    -0.031679   \n",
       "RDEATH2016             -0.034643  0.041237 -0.046036    1.000000    -0.163762   \n",
       "RNETMIG2016            -0.043474 -0.002148 -0.031679   -0.163762     1.000000   \n",
       "RNATURALINC2016         0.023922 -0.027799  0.030251   -0.824252     0.038587   \n",
       "RINTERNATIONALMIG2016  -0.054041  0.013611 -0.039785   -0.443752     0.127528   \n",
       "RDOMESTICMIG2016       -0.033806 -0.004671 -0.024559   -0.083083     0.983157   \n",
       "RBIRTH2016              0.003776 -0.003367  0.002454   -0.331764    -0.106269   \n",
       "\n",
       "                       RNATURALINC2016  RINTERNATIONALMIG2016  \\\n",
       "mortgrate                     0.023922              -0.054041   \n",
       "unemp                        -0.027799               0.013611   \n",
       "cpi                           0.030251              -0.039785   \n",
       "RDEATH2016                   -0.824252              -0.443752   \n",
       "RNETMIG2016                   0.038587               0.127528   \n",
       "RNATURALINC2016               1.000000               0.413095   \n",
       "RINTERNATIONALMIG2016         0.413095               1.000000   \n",
       "RDOMESTICMIG2016             -0.037277              -0.055890   \n",
       "RBIRTH2016                    0.807610               0.226079   \n",
       "\n",
       "                       RDOMESTICMIG2016  RBIRTH2016  \n",
       "mortgrate                     -0.033806    0.003776  \n",
       "unemp                         -0.004671   -0.003367  \n",
       "cpi                           -0.024559    0.002454  \n",
       "RDEATH2016                    -0.083083   -0.331764  \n",
       "RNETMIG2016                    0.983157   -0.106269  \n",
       "RNATURALINC2016               -0.037277    0.807610  \n",
       "RINTERNATIONALMIG2016         -0.055890    0.226079  \n",
       "RDOMESTICMIG2016               1.000000   -0.148635  \n",
       "RBIRTH2016                    -0.148635    1.000000  "
      ]
     },
     "execution_count": 8,
     "metadata": {},
     "output_type": "execute_result"
    }
   ],
   "source": [
    "ratespop2.corr()"
   ]
  },
  {
   "cell_type": "code",
   "execution_count": 9,
   "metadata": {},
   "outputs": [
    {
     "name": "stdout",
     "output_type": "stream",
     "text": [
      "<class 'pandas.core.frame.DataFrame'>\n",
      "Int64Index: 9320 entries, 0 to 9319\n",
      "Data columns (total 9 columns):\n",
      "mortgrate                9320 non-null float64\n",
      "unemp                    9320 non-null float64\n",
      "cpi                      9320 non-null float64\n",
      "RDEATH2016               9320 non-null float64\n",
      "RNETMIG2016              9320 non-null float64\n",
      "RNATURALINC2016          9320 non-null float64\n",
      "RINTERNATIONALMIG2016    9320 non-null float64\n",
      "RDOMESTICMIG2016         9320 non-null float64\n",
      "RBIRTH2016               9320 non-null float64\n",
      "dtypes: float64(9)\n",
      "memory usage: 728.1 KB\n"
     ]
    }
   ],
   "source": [
    "ratespop2.info()"
   ]
  },
  {
   "cell_type": "code",
   "execution_count": 10,
   "metadata": {},
   "outputs": [
    {
     "data": {
      "text/plain": [
       "mortgrate                0\n",
       "unemp                    0\n",
       "cpi                      0\n",
       "RDEATH2016               0\n",
       "RNETMIG2016              0\n",
       "RNATURALINC2016          0\n",
       "RINTERNATIONALMIG2016    0\n",
       "RDOMESTICMIG2016         0\n",
       "RBIRTH2016               0\n",
       "dtype: int64"
      ]
     },
     "execution_count": 10,
     "metadata": {},
     "output_type": "execute_result"
    }
   ],
   "source": [
    "ratespop2.isnull().sum()"
   ]
  },
  {
   "cell_type": "code",
   "execution_count": 11,
   "metadata": {},
   "outputs": [
    {
     "name": "stdout",
     "output_type": "stream",
     "text": [
      "[1.67908255e+02 2.39359359e+01 4.22729487e+00 2.84591986e+00\n",
      " 4.13845496e-04 2.55274324e-04 3.26655239e-07 4.16245315e-19\n",
      " 4.93679942e-20]\n",
      "[[-5.75861450e-05 -4.71063249e-06 -7.21261657e-06 -2.41443316e-02\n",
      "   7.09187299e-01  4.93697020e-04  4.99565538e-03  7.04191643e-01\n",
      "  -2.36506346e-02]\n",
      " [ 7.44030862e-05 -9.01102057e-05  1.78621642e-05 -4.18736166e-01\n",
      "   8.18247490e-02  7.98800946e-01  1.67571142e-01 -8.57463934e-02\n",
      "   3.80064780e-01]\n",
      " [-1.42592704e-04 -4.51430102e-05 -3.72093731e-06 -4.79140439e-01\n",
      "   2.33912341e-01 -1.24467989e-01  5.09713428e-01 -2.75801087e-01\n",
      "  -6.03608428e-01]\n",
      " [-9.72809841e-04  4.87978541e-04 -1.60717395e-04  5.11045857e-01\n",
      "   3.19858725e-01 -1.14416519e-01  6.15429387e-01 -2.95570662e-01\n",
      "   3.96629337e-01]\n",
      " [-8.57906849e-01  4.89241488e-01 -1.56962969e-01 -5.58294765e-04\n",
      "  -4.00110339e-04  2.26661827e-04 -7.09160282e-04  3.09049362e-04\n",
      "  -3.31633017e-04]\n",
      " [ 5.00974751e-01  8.64338415e-01 -4.40838431e-02 -4.10759223e-05\n",
      "   7.10158610e-05  1.26660817e-05  9.93125234e-05 -2.82973779e-05\n",
      "  -2.84102642e-05]\n",
      " [ 1.14101540e-01 -1.16454384e-01 -9.86620097e-01  1.80760782e-06\n",
      "   3.79585485e-06 -3.06271473e-06  9.20332158e-06 -5.41943011e-06\n",
      "  -1.24756980e-06]\n",
      " [ 7.06191872e-10 -2.81076676e-10 -6.87269638e-09 -1.72223542e-03\n",
      "  -5.77347700e-01 -1.72223543e-03  5.77347700e-01  5.77347700e-01\n",
      "   1.72223542e-03]\n",
      " [ 4.15714576e-10 -7.41591781e-10 -4.29581847e-09  5.77347700e-01\n",
      "  -1.72223542e-03  5.77347700e-01  1.72223542e-03  1.72223542e-03\n",
      "  -5.77347700e-01]]\n",
      "Explained variance:             [8.44107580e-01 1.20330623e-01 2.12514366e-02 1.43069948e-02\n",
      " 2.08048211e-06 1.28331387e-06 1.64215966e-09 2.09254647e-21\n",
      " 2.48182546e-22]\n",
      "Cumulative explained variance:  [0.84410758 0.9644382  0.98568964 0.99999663 0.99999872 1.\n",
      " 1.         1.         1.        ]\n"
     ]
    }
   ],
   "source": [
    "pca=PCA()\n",
    "pca=pca.fit(ratespop2)\n",
    "print(pca.explained_variance_)\n",
    "print(pca.components_)\n",
    "\n",
    "var_exp = pca.explained_variance_ratio_\n",
    "print('Explained variance:            ', var_exp)\n",
    "\n",
    "cum_var_exp = np.cumsum(var_exp)\n",
    "print('Cumulative explained variance: ', cum_var_exp)"
   ]
  },
  {
   "cell_type": "code",
   "execution_count": 12,
   "metadata": {},
   "outputs": [
    {
     "data": {
      "text/html": [
       "<div>\n",
       "<style scoped>\n",
       "    .dataframe tbody tr th:only-of-type {\n",
       "        vertical-align: middle;\n",
       "    }\n",
       "\n",
       "    .dataframe tbody tr th {\n",
       "        vertical-align: top;\n",
       "    }\n",
       "\n",
       "    .dataframe thead th {\n",
       "        text-align: right;\n",
       "    }\n",
       "</style>\n",
       "<table border=\"1\" class=\"dataframe\">\n",
       "  <thead>\n",
       "    <tr style=\"text-align: right;\">\n",
       "      <th></th>\n",
       "      <th>PC1</th>\n",
       "      <th>PC2</th>\n",
       "      <th>PC3</th>\n",
       "      <th>PC4</th>\n",
       "      <th>PC5</th>\n",
       "      <th>PC6</th>\n",
       "      <th>PC7</th>\n",
       "      <th>PC8</th>\n",
       "      <th>PC9</th>\n",
       "    </tr>\n",
       "  </thead>\n",
       "  <tbody>\n",
       "    <tr>\n",
       "      <th>0</th>\n",
       "      <td>7.257891</td>\n",
       "      <td>0.589137</td>\n",
       "      <td>-0.747965</td>\n",
       "      <td>-1.066789</td>\n",
       "      <td>-0.024137</td>\n",
       "      <td>-0.001601</td>\n",
       "      <td>0.001090</td>\n",
       "      <td>-9.965302e-13</td>\n",
       "      <td>6.240917e-11</td>\n",
       "    </tr>\n",
       "    <tr>\n",
       "      <th>1</th>\n",
       "      <td>20.332331</td>\n",
       "      <td>0.243135</td>\n",
       "      <td>-1.055247</td>\n",
       "      <td>0.251952</td>\n",
       "      <td>-0.026224</td>\n",
       "      <td>-0.001146</td>\n",
       "      <td>0.001086</td>\n",
       "      <td>1.258071e-10</td>\n",
       "      <td>-4.840771e-11</td>\n",
       "    </tr>\n",
       "    <tr>\n",
       "      <th>2</th>\n",
       "      <td>-3.007800</td>\n",
       "      <td>-1.626953</td>\n",
       "      <td>-2.167134</td>\n",
       "      <td>0.025785</td>\n",
       "      <td>-0.024945</td>\n",
       "      <td>-0.002120</td>\n",
       "      <td>0.001104</td>\n",
       "      <td>-4.799993e-12</td>\n",
       "      <td>1.193561e-10</td>\n",
       "    </tr>\n",
       "    <tr>\n",
       "      <th>3</th>\n",
       "      <td>1.244518</td>\n",
       "      <td>1.325772</td>\n",
       "      <td>-2.087272</td>\n",
       "      <td>-0.725813</td>\n",
       "      <td>-0.024005</td>\n",
       "      <td>-0.001895</td>\n",
       "      <td>0.001089</td>\n",
       "      <td>1.056484e-10</td>\n",
       "      <td>1.756811e-10</td>\n",
       "    </tr>\n",
       "    <tr>\n",
       "      <th>4</th>\n",
       "      <td>7.469657</td>\n",
       "      <td>-6.375063</td>\n",
       "      <td>0.335907</td>\n",
       "      <td>-0.476887</td>\n",
       "      <td>-0.025676</td>\n",
       "      <td>-0.001729</td>\n",
       "      <td>0.001113</td>\n",
       "      <td>7.944189e-11</td>\n",
       "      <td>-1.618510e-10</td>\n",
       "    </tr>\n",
       "  </tbody>\n",
       "</table>\n",
       "</div>"
      ],
      "text/plain": [
       "         PC1       PC2       PC3       PC4       PC5       PC6       PC7  \\\n",
       "0   7.257891  0.589137 -0.747965 -1.066789 -0.024137 -0.001601  0.001090   \n",
       "1  20.332331  0.243135 -1.055247  0.251952 -0.026224 -0.001146  0.001086   \n",
       "2  -3.007800 -1.626953 -2.167134  0.025785 -0.024945 -0.002120  0.001104   \n",
       "3   1.244518  1.325772 -2.087272 -0.725813 -0.024005 -0.001895  0.001089   \n",
       "4   7.469657 -6.375063  0.335907 -0.476887 -0.025676 -0.001729  0.001113   \n",
       "\n",
       "            PC8           PC9  \n",
       "0 -9.965302e-13  6.240917e-11  \n",
       "1  1.258071e-10 -4.840771e-11  \n",
       "2 -4.799993e-12  1.193561e-10  \n",
       "3  1.056484e-10  1.756811e-10  \n",
       "4  7.944189e-11 -1.618510e-10  "
      ]
     },
     "execution_count": 12,
     "metadata": {},
     "output_type": "execute_result"
    }
   ],
   "source": [
    "Z = pca.transform(ratespop2)\n",
    "\n",
    "features_pca = ['PC'+str(i+1) for i in range(pca.n_components_)]\n",
    "Z = pd.DataFrame(Z, columns=features_pca)\n",
    "Z.head(5)"
   ]
  },
  {
   "cell_type": "code",
   "execution_count": 13,
   "metadata": {},
   "outputs": [
    {
     "data": {
      "text/html": [
       "<div>\n",
       "<style scoped>\n",
       "    .dataframe tbody tr th:only-of-type {\n",
       "        vertical-align: middle;\n",
       "    }\n",
       "\n",
       "    .dataframe tbody tr th {\n",
       "        vertical-align: top;\n",
       "    }\n",
       "\n",
       "    .dataframe thead th {\n",
       "        text-align: right;\n",
       "    }\n",
       "</style>\n",
       "<table border=\"1\" class=\"dataframe\">\n",
       "  <thead>\n",
       "    <tr style=\"text-align: right;\">\n",
       "      <th></th>\n",
       "      <th>PC1</th>\n",
       "      <th>PC2</th>\n",
       "      <th>PC3</th>\n",
       "      <th>PC4</th>\n",
       "      <th>PC5</th>\n",
       "      <th>PC6</th>\n",
       "      <th>PC7</th>\n",
       "      <th>PC8</th>\n",
       "      <th>PC9</th>\n",
       "    </tr>\n",
       "  </thead>\n",
       "  <tbody>\n",
       "    <tr>\n",
       "      <th>PC1</th>\n",
       "      <td>1.000000e+00</td>\n",
       "      <td>-9.833328e-17</td>\n",
       "      <td>4.645427e-16</td>\n",
       "      <td>5.181215e-16</td>\n",
       "      <td>-4.913963e-14</td>\n",
       "      <td>-9.066585e-14</td>\n",
       "      <td>-1.216340e-12</td>\n",
       "      <td>-2.224904e-06</td>\n",
       "      <td>-8.506549e-07</td>\n",
       "    </tr>\n",
       "    <tr>\n",
       "      <th>PC2</th>\n",
       "      <td>-9.833328e-17</td>\n",
       "      <td>1.000000e+00</td>\n",
       "      <td>-6.171900e-16</td>\n",
       "      <td>-5.500069e-16</td>\n",
       "      <td>-3.065871e-15</td>\n",
       "      <td>-5.312801e-15</td>\n",
       "      <td>-1.346058e-12</td>\n",
       "      <td>6.078997e-07</td>\n",
       "      <td>1.338689e-06</td>\n",
       "    </tr>\n",
       "    <tr>\n",
       "      <th>PC3</th>\n",
       "      <td>4.645427e-16</td>\n",
       "      <td>-6.171900e-16</td>\n",
       "      <td>1.000000e+00</td>\n",
       "      <td>3.475992e-16</td>\n",
       "      <td>3.109778e-14</td>\n",
       "      <td>3.666252e-15</td>\n",
       "      <td>3.949139e-13</td>\n",
       "      <td>7.854969e-07</td>\n",
       "      <td>-1.789293e-06</td>\n",
       "    </tr>\n",
       "    <tr>\n",
       "      <th>PC4</th>\n",
       "      <td>5.181215e-16</td>\n",
       "      <td>-5.500069e-16</td>\n",
       "      <td>3.475992e-16</td>\n",
       "      <td>1.000000e+00</td>\n",
       "      <td>-2.013986e-14</td>\n",
       "      <td>1.981075e-15</td>\n",
       "      <td>-1.521105e-14</td>\n",
       "      <td>8.273047e-07</td>\n",
       "      <td>-1.043058e-06</td>\n",
       "    </tr>\n",
       "    <tr>\n",
       "      <th>PC5</th>\n",
       "      <td>-4.913963e-14</td>\n",
       "      <td>-3.065871e-15</td>\n",
       "      <td>3.109778e-14</td>\n",
       "      <td>-2.013986e-14</td>\n",
       "      <td>1.000000e+00</td>\n",
       "      <td>-3.867636e-15</td>\n",
       "      <td>9.479025e-14</td>\n",
       "      <td>-3.436784e-08</td>\n",
       "      <td>8.824172e-08</td>\n",
       "    </tr>\n",
       "    <tr>\n",
       "      <th>PC6</th>\n",
       "      <td>-9.066585e-14</td>\n",
       "      <td>-5.312801e-15</td>\n",
       "      <td>3.666252e-15</td>\n",
       "      <td>1.981075e-15</td>\n",
       "      <td>-3.867636e-15</td>\n",
       "      <td>1.000000e+00</td>\n",
       "      <td>-3.240766e-14</td>\n",
       "      <td>-3.352255e-07</td>\n",
       "      <td>1.172601e-07</td>\n",
       "    </tr>\n",
       "    <tr>\n",
       "      <th>PC7</th>\n",
       "      <td>-1.216340e-12</td>\n",
       "      <td>-1.346058e-12</td>\n",
       "      <td>3.949139e-13</td>\n",
       "      <td>-1.521105e-14</td>\n",
       "      <td>9.479025e-14</td>\n",
       "      <td>-3.240766e-14</td>\n",
       "      <td>1.000000e+00</td>\n",
       "      <td>-9.524812e-08</td>\n",
       "      <td>1.270148e-06</td>\n",
       "    </tr>\n",
       "    <tr>\n",
       "      <th>PC8</th>\n",
       "      <td>-2.224904e-06</td>\n",
       "      <td>6.078997e-07</td>\n",
       "      <td>7.854969e-07</td>\n",
       "      <td>8.273047e-07</td>\n",
       "      <td>-3.436784e-08</td>\n",
       "      <td>-3.352255e-07</td>\n",
       "      <td>-9.524812e-08</td>\n",
       "      <td>1.000000e+00</td>\n",
       "      <td>2.244729e-08</td>\n",
       "    </tr>\n",
       "    <tr>\n",
       "      <th>PC9</th>\n",
       "      <td>-8.506549e-07</td>\n",
       "      <td>1.338689e-06</td>\n",
       "      <td>-1.789293e-06</td>\n",
       "      <td>-1.043058e-06</td>\n",
       "      <td>8.824172e-08</td>\n",
       "      <td>1.172601e-07</td>\n",
       "      <td>1.270148e-06</td>\n",
       "      <td>2.244729e-08</td>\n",
       "      <td>1.000000e+00</td>\n",
       "    </tr>\n",
       "  </tbody>\n",
       "</table>\n",
       "</div>"
      ],
      "text/plain": [
       "              PC1           PC2           PC3           PC4           PC5  \\\n",
       "PC1  1.000000e+00 -9.833328e-17  4.645427e-16  5.181215e-16 -4.913963e-14   \n",
       "PC2 -9.833328e-17  1.000000e+00 -6.171900e-16 -5.500069e-16 -3.065871e-15   \n",
       "PC3  4.645427e-16 -6.171900e-16  1.000000e+00  3.475992e-16  3.109778e-14   \n",
       "PC4  5.181215e-16 -5.500069e-16  3.475992e-16  1.000000e+00 -2.013986e-14   \n",
       "PC5 -4.913963e-14 -3.065871e-15  3.109778e-14 -2.013986e-14  1.000000e+00   \n",
       "PC6 -9.066585e-14 -5.312801e-15  3.666252e-15  1.981075e-15 -3.867636e-15   \n",
       "PC7 -1.216340e-12 -1.346058e-12  3.949139e-13 -1.521105e-14  9.479025e-14   \n",
       "PC8 -2.224904e-06  6.078997e-07  7.854969e-07  8.273047e-07 -3.436784e-08   \n",
       "PC9 -8.506549e-07  1.338689e-06 -1.789293e-06 -1.043058e-06  8.824172e-08   \n",
       "\n",
       "              PC6           PC7           PC8           PC9  \n",
       "PC1 -9.066585e-14 -1.216340e-12 -2.224904e-06 -8.506549e-07  \n",
       "PC2 -5.312801e-15 -1.346058e-12  6.078997e-07  1.338689e-06  \n",
       "PC3  3.666252e-15  3.949139e-13  7.854969e-07 -1.789293e-06  \n",
       "PC4  1.981075e-15 -1.521105e-14  8.273047e-07 -1.043058e-06  \n",
       "PC5 -3.867636e-15  9.479025e-14 -3.436784e-08  8.824172e-08  \n",
       "PC6  1.000000e+00 -3.240766e-14 -3.352255e-07  1.172601e-07  \n",
       "PC7 -3.240766e-14  1.000000e+00 -9.524812e-08  1.270148e-06  \n",
       "PC8 -3.352255e-07 -9.524812e-08  1.000000e+00  2.244729e-08  \n",
       "PC9  1.172601e-07  1.270148e-06  2.244729e-08  1.000000e+00  "
      ]
     },
     "execution_count": 13,
     "metadata": {},
     "output_type": "execute_result"
    }
   ],
   "source": [
    "Z.corr()"
   ]
  },
  {
   "cell_type": "code",
   "execution_count": 14,
   "metadata": {},
   "outputs": [
    {
     "data": {
      "text/plain": [
       "array([[ 1.67908255e+02, -7.48437332e-15,  1.28460393e-14,\n",
       "         1.34926111e-14, -1.29585031e-14, -1.87867511e-14,\n",
       "        -9.00798547e-15, -1.86003868e-14, -2.44913175e-15],\n",
       "       [-7.48437332e-15,  2.39359359e+01, -6.10888336e-15,\n",
       "        -3.86113147e-15, -3.06458010e-16, -4.20357433e-16,\n",
       "        -3.76383357e-15,  1.91880913e-15,  1.45521680e-15],\n",
       "       [ 1.28460393e-14, -6.10888336e-15,  4.22729487e+00,\n",
       "         1.88329280e-15,  1.30108579e-15,  1.19627603e-16,\n",
       "         4.64079157e-16,  1.04195842e-15, -8.17401636e-16],\n",
       "       [ 1.34926111e-14, -3.86113147e-15,  1.88329280e-15,\n",
       "         2.84591986e+00, -6.93314562e-16,  5.36824225e-17,\n",
       "        -1.48578163e-17,  9.00433179e-16, -3.90969073e-16],\n",
       "       [-1.29585031e-14, -3.06458010e-16,  1.30108579e-15,\n",
       "        -6.93314562e-16,  4.13845496e-04, -1.33506136e-18,\n",
       "         1.09637603e-18, -4.51072207e-19,  3.98855704e-19],\n",
       "       [-1.87867511e-14, -4.20357433e-16,  1.19627603e-16,\n",
       "         5.36824225e-17, -1.33506136e-18,  2.55274324e-04,\n",
       "        -2.95668762e-19, -3.45553487e-18,  4.16271495e-19],\n",
       "       [-9.00798547e-15, -3.76383357e-15,  4.64079157e-16,\n",
       "        -1.48578163e-17,  1.09637603e-18, -2.95668762e-19,\n",
       "         3.26655239e-07, -3.51217305e-20,  1.61295338e-19],\n",
       "       [-1.86003868e-14,  1.91880913e-15,  1.04195842e-15,\n",
       "         9.00433179e-16, -4.51072207e-19, -3.45553487e-18,\n",
       "        -3.51217305e-20,  4.16245285e-19,  3.21781702e-27],\n",
       "       [-2.44913175e-15,  1.45521680e-15, -8.17401636e-16,\n",
       "        -3.90969073e-16,  3.98855704e-19,  4.16271495e-19,\n",
       "         1.61295338e-19,  3.21781702e-27,  4.93679905e-20]])"
      ]
     },
     "execution_count": 14,
     "metadata": {},
     "output_type": "execute_result"
    }
   ],
   "source": [
    "np.cov(Z.values.T)"
   ]
  },
  {
   "cell_type": "code",
   "execution_count": 15,
   "metadata": {},
   "outputs": [],
   "source": [
    "demo_pcs = ratespop2.copy()\n",
    "demo_pcs['PC1'] = Z.iloc[:,0]\n",
    "demo_pcs['PC2'] = Z.iloc[:,1]\n",
    "\n",
    "demo_pcs = pd.melt(demo_pcs, id_vars=['PC1','PC2'])"
   ]
  },
  {
   "cell_type": "code",
   "execution_count": 16,
   "metadata": {},
   "outputs": [
    {
     "data": {
      "image/png": "[encoded data removed]",
      "text/plain": [
       "<matplotlib.figure.Figure at 0x1d6bcb4c828>"
      ]
     },
     "metadata": {},
     "output_type": "display_data"
    }
   ],
   "source": [
    "pc1 = sns.lmplot(x=\"PC1\", y=\"value\", row=\"variable\", hue=\"variable\", \n",
    "                 data=demo_pcs, size=7, scatter_kws={'s':50})"
   ]
  },
  {
   "cell_type": "code",
   "execution_count": 17,
   "metadata": {},
   "outputs": [
    {
     "name": "stdout",
     "output_type": "stream",
     "text": [
      "Explained variance:             [8.44107580e-01 1.20330623e-01 2.12514366e-02 1.43069948e-02\n",
      " 2.08048211e-06 1.28331387e-06 1.64215966e-09 2.09254647e-21\n",
      " 2.48182546e-22]\n",
      "Cumulative explained variance:  [0.84410758 0.9644382  0.98568964 0.99999663 0.99999872 1.\n",
      " 1.         1.         1.        ]\n"
     ]
    }
   ],
   "source": [
    "var_exp = pca.explained_variance_ratio_\n",
    "print('Explained variance:            ', var_exp)\n",
    "\n",
    "cum_var_exp = np.cumsum(var_exp)\n",
    "print('Cumulative explained variance: ', cum_var_exp)"
   ]
  },
  {
   "cell_type": "code",
   "execution_count": 18,
   "metadata": {},
   "outputs": [
    {
     "data": {
      "image/png": "[encoded data removed]",
      "text/plain": [
       "<matplotlib.figure.Figure at 0x1d6c0de1c88>"
      ]
     },
     "metadata": {},
     "output_type": "display_data"
    }
   ],
   "source": [
    "plt.figure(figsize=(9,7))\n",
    "\n",
    "# HERE IS THE BASIC PLOT\n",
    "\n",
    "# Plot the cumulative explained variance\n",
    "component_number = [1,2,3,4,5,6,7,8,9]\n",
    "plt.plot(component_number, cum_var_exp, lw=7)\n",
    "\n",
    "# NOW MAKE IT LOOK PRETTY\n",
    "\n",
    "# Add horizontal lines at y=0 and y=100\n",
    "plt.axhline(y=0, linewidth=5, color='grey', ls='dashed')\n",
    "plt.axhline(y=1, linewidth=3, color='grey', ls='dashed')\n",
    "\n",
    "# Set the x and y axis limits\n",
    "ax = plt.gca()\n",
    "ax.set_xlim([1,3])\n",
    "ax.set_ylim([-0.05,1.05])\n",
    "\n",
    "# Label the axes\n",
    "ax.set_ylabel('cumulative variance explained', fontsize=16)\n",
    "ax.set_xlabel('component', fontsize=16)\n",
    "\n",
    "# Make the tick labels bigger\n",
    "for tick in ax.xaxis.get_major_ticks():\n",
    "    tick.label.set_fontsize(12) \n",
    "for tick in ax.yaxis.get_major_ticks():\n",
    "    tick.label.set_fontsize(12) \n",
    "    \n",
    "# Add title\n",
    "ax.set_title('component vs cumulative variance explained\\n', fontsize=20)\n",
    "\n",
    "plt.show()"
   ]
  },
  {
   "cell_type": "code",
   "execution_count": 19,
   "metadata": {},
   "outputs": [
    {
     "name": "stdout",
     "output_type": "stream",
     "text": [
      "-1.3907402685498018\n"
     ]
    }
   ],
   "source": [
    "from sklearn.preprocessing import StandardScaler\n",
    "from sklearn.linear_model import LinearRegression\n",
    "from sklearn.model_selection import cross_val_score\n",
    "\n",
    "features = ['mortgrate', 'unemp', 'cpi', 'RDEATH2016', 'RNETMIG2016',\n",
    "       'RNATURALINC2016', 'RINTERNATIONALMIG2016', 'RDOMESTICMIG2016',\n",
    "       'RBIRTH2016']\n",
    "\n",
    "X = ratespop[features]\n",
    "y = ratespop['price']\n",
    "\n",
    "ss = StandardScaler()\n",
    "Xs = ss.fit_transform(X)\n",
    "\n",
    "lr = LinearRegression()\n",
    "\n",
    "print(cross_val_score(lr, Xs, y, cv=5).mean())"
   ]
  },
  {
   "cell_type": "code",
   "execution_count": 20,
   "metadata": {},
   "outputs": [
    {
     "name": "stdout",
     "output_type": "stream",
     "text": [
      "('mortgrate', 'unemp') -1.1397768057025797\n",
      "('mortgrate', 'cpi') -1.203079018259435\n",
      "('mortgrate', 'RDEATH2016') -0.35027546051387454\n",
      "('mortgrate', 'RNETMIG2016') -0.30560481025367475\n",
      "('mortgrate', 'RNATURALINC2016') -0.34318297991571156\n",
      "('mortgrate', 'RINTERNATIONALMIG2016') -0.3303204644262638\n",
      "('mortgrate', 'RDOMESTICMIG2016') -0.3083243573656887\n",
      "('mortgrate', 'RBIRTH2016') -0.33366339661167815\n",
      "('unemp', 'cpi') -1.2362669864348717\n",
      "('unemp', 'RDEATH2016') -0.3500653986486192\n",
      "('unemp', 'RNETMIG2016') -0.29500282358304886\n",
      "('unemp', 'RNATURALINC2016') -0.3438323249685642\n",
      "('unemp', 'RINTERNATIONALMIG2016') -0.32932777638957894\n",
      "('unemp', 'RDOMESTICMIG2016') -0.2990062015291397\n",
      "('unemp', 'RBIRTH2016') -0.33418848729323003\n",
      "('cpi', 'RDEATH2016') -1.1347249214013104\n",
      "('cpi', 'RNETMIG2016') -1.0393896024397642\n",
      "('cpi', 'RNATURALINC2016') -1.1236640334744945\n",
      "('cpi', 'RINTERNATIONALMIG2016') -1.0967420906265075\n",
      "('cpi', 'RDOMESTICMIG2016') -1.0421593145534103\n",
      "('cpi', 'RBIRTH2016') -1.1006101147245606\n",
      "('RDEATH2016', 'RNETMIG2016') -0.3266099996864078\n",
      "('RDEATH2016', 'RNATURALINC2016') -0.3612455713623222\n",
      "('RDEATH2016', 'RINTERNATIONALMIG2016') -0.35934584807112924\n",
      "('RDEATH2016', 'RDOMESTICMIG2016') -0.3309319487372734\n",
      "('RDEATH2016', 'RBIRTH2016') -0.36124557136202884\n",
      "('RNETMIG2016', 'RNATURALINC2016') -0.319444827269025\n",
      "('RNETMIG2016', 'RINTERNATIONALMIG2016') -0.3049712584748768\n",
      "('RNETMIG2016', 'RDOMESTICMIG2016') -0.3049712584745155\n",
      "('RNETMIG2016', 'RBIRTH2016') -0.3066183664929264\n",
      "('RNATURALINC2016', 'RINTERNATIONALMIG2016') -0.350451743874841\n",
      "('RNATURALINC2016', 'RDOMESTICMIG2016') -0.32289959318698686\n",
      "('RNATURALINC2016', 'RBIRTH2016') -0.36124557136185614\n",
      "('RINTERNATIONALMIG2016', 'RDOMESTICMIG2016') -0.3049712584750884\n",
      "('RINTERNATIONALMIG2016', 'RBIRTH2016') -0.3383931263998897\n",
      "('RDOMESTICMIG2016', 'RBIRTH2016') -0.31003716044758056\n"
     ]
    }
   ],
   "source": [
    "from itertools import combinations\n",
    "\n",
    "for features_2 in combinations(features, 2):\n",
    "    X = ratespop[list(features_2)]\n",
    "    Xs = ss.fit_transform(X)\n",
    "    lr = LinearRegression()\n",
    "    print(features_2, cross_val_score(lr, Xs, y, cv=5).mean())"
   ]
  },
  {
   "cell_type": "code",
   "execution_count": 60,
   "metadata": {},
   "outputs": [
    {
     "name": "stdout",
     "output_type": "stream",
     "text": [
      "-0.7659686128465859\n"
     ]
    },
    {
     "data": {
      "text/html": [
       "<div>\n",
       "<style scoped>\n",
       "    .dataframe tbody tr th:only-of-type {\n",
       "        vertical-align: middle;\n",
       "    }\n",
       "\n",
       "    .dataframe tbody tr th {\n",
       "        vertical-align: top;\n",
       "    }\n",
       "\n",
       "    .dataframe thead th {\n",
       "        text-align: right;\n",
       "    }\n",
       "</style>\n",
       "<table border=\"1\" class=\"dataframe\">\n",
       "  <thead>\n",
       "    <tr style=\"text-align: right;\">\n",
       "      <th></th>\n",
       "      <th>PC1</th>\n",
       "      <th>PC2</th>\n",
       "    </tr>\n",
       "  </thead>\n",
       "  <tbody>\n",
       "    <tr>\n",
       "      <th>mortgrate</th>\n",
       "      <td>0.048588</td>\n",
       "      <td>-0.514322</td>\n",
       "    </tr>\n",
       "    <tr>\n",
       "      <th>unemp</th>\n",
       "      <td>-0.059301</td>\n",
       "      <td>0.474273</td>\n",
       "    </tr>\n",
       "    <tr>\n",
       "      <th>cpi</th>\n",
       "      <td>0.068277</td>\n",
       "      <td>-0.639619</td>\n",
       "    </tr>\n",
       "    <tr>\n",
       "      <th>RDEATH2016</th>\n",
       "      <td>-0.520827</td>\n",
       "      <td>-0.049851</td>\n",
       "    </tr>\n",
       "    <tr>\n",
       "      <th>RNETMIG2016</th>\n",
       "      <td>0.058554</td>\n",
       "      <td>0.218269</td>\n",
       "    </tr>\n",
       "    <tr>\n",
       "      <th>RNATURALINC2016</th>\n",
       "      <td>0.603727</td>\n",
       "      <td>0.035378</td>\n",
       "    </tr>\n",
       "    <tr>\n",
       "      <th>RINTERNATIONALMIG2016</th>\n",
       "      <td>0.368045</td>\n",
       "      <td>0.095704</td>\n",
       "    </tr>\n",
       "    <tr>\n",
       "      <th>RDOMESTICMIG2016</th>\n",
       "      <td>-0.008875</td>\n",
       "      <td>0.202086</td>\n",
       "    </tr>\n",
       "    <tr>\n",
       "      <th>RBIRTH2016</th>\n",
       "      <td>0.463411</td>\n",
       "      <td>0.007022</td>\n",
       "    </tr>\n",
       "  </tbody>\n",
       "</table>\n",
       "</div>"
      ],
      "text/plain": [
       "                            PC1       PC2\n",
       "mortgrate              0.048588 -0.514322\n",
       "unemp                 -0.059301  0.474273\n",
       "cpi                    0.068277 -0.639619\n",
       "RDEATH2016            -0.520827 -0.049851\n",
       "RNETMIG2016            0.058554  0.218269\n",
       "RNATURALINC2016        0.603727  0.035378\n",
       "RINTERNATIONALMIG2016  0.368045  0.095704\n",
       "RDOMESTICMIG2016      -0.008875  0.202086\n",
       "RBIRTH2016             0.463411  0.007022"
      ]
     },
     "execution_count": 60,
     "metadata": {},
     "output_type": "execute_result"
    }
   ],
   "source": [
    "X = ratespop[features]\n",
    "y = ratespop['price']\n",
    "\n",
    "ss = StandardScaler()\n",
    "Xs = ss.fit_transform(X)\n",
    "\n",
    "pca = PCA(n_components=2)\n",
    "Xt = pca.fit_transform(Xs)\n",
    "\n",
    "lr = LinearRegression()\n",
    "\n",
    "print(cross_val_score(lr, Xt, y, cv=5).mean())\n",
    "\n",
    "pd.DataFrame(pca.components_.T, columns=['PC1', 'PC2'], index=features)"
   ]
  },
  {
   "cell_type": "code",
   "execution_count": 61,
   "metadata": {},
   "outputs": [
    {
     "name": "stdout",
     "output_type": "stream",
     "text": [
      "-0.7659686128465785\n"
     ]
    },
    {
     "data": {
      "text/html": [
       "<div>\n",
       "<style scoped>\n",
       "    .dataframe tbody tr th:only-of-type {\n",
       "        vertical-align: middle;\n",
       "    }\n",
       "\n",
       "    .dataframe tbody tr th {\n",
       "        vertical-align: top;\n",
       "    }\n",
       "\n",
       "    .dataframe thead th {\n",
       "        text-align: right;\n",
       "    }\n",
       "</style>\n",
       "<table border=\"1\" class=\"dataframe\">\n",
       "  <thead>\n",
       "    <tr style=\"text-align: right;\">\n",
       "      <th></th>\n",
       "      <th>PC1</th>\n",
       "      <th>PC2</th>\n",
       "    </tr>\n",
       "  </thead>\n",
       "  <tbody>\n",
       "    <tr>\n",
       "      <th>mortgrate</th>\n",
       "      <td>0.048588</td>\n",
       "      <td>-0.514322</td>\n",
       "    </tr>\n",
       "    <tr>\n",
       "      <th>unemp</th>\n",
       "      <td>-0.059301</td>\n",
       "      <td>0.474273</td>\n",
       "    </tr>\n",
       "    <tr>\n",
       "      <th>cpi</th>\n",
       "      <td>0.068277</td>\n",
       "      <td>-0.639619</td>\n",
       "    </tr>\n",
       "    <tr>\n",
       "      <th>RDEATH2016</th>\n",
       "      <td>-0.520827</td>\n",
       "      <td>-0.049851</td>\n",
       "    </tr>\n",
       "    <tr>\n",
       "      <th>RNETMIG2016</th>\n",
       "      <td>0.058554</td>\n",
       "      <td>0.218269</td>\n",
       "    </tr>\n",
       "    <tr>\n",
       "      <th>RNATURALINC2016</th>\n",
       "      <td>0.603727</td>\n",
       "      <td>0.035378</td>\n",
       "    </tr>\n",
       "    <tr>\n",
       "      <th>RINTERNATIONALMIG2016</th>\n",
       "      <td>0.368045</td>\n",
       "      <td>0.095704</td>\n",
       "    </tr>\n",
       "    <tr>\n",
       "      <th>RDOMESTICMIG2016</th>\n",
       "      <td>-0.008875</td>\n",
       "      <td>0.202086</td>\n",
       "    </tr>\n",
       "    <tr>\n",
       "      <th>RBIRTH2016</th>\n",
       "      <td>0.463411</td>\n",
       "      <td>0.007022</td>\n",
       "    </tr>\n",
       "  </tbody>\n",
       "</table>\n",
       "</div>"
      ],
      "text/plain": [
       "                            PC1       PC2\n",
       "mortgrate              0.048588 -0.514322\n",
       "unemp                 -0.059301  0.474273\n",
       "cpi                    0.068277 -0.639619\n",
       "RDEATH2016            -0.520827 -0.049851\n",
       "RNETMIG2016            0.058554  0.218269\n",
       "RNATURALINC2016        0.603727  0.035378\n",
       "RINTERNATIONALMIG2016  0.368045  0.095704\n",
       "RDOMESTICMIG2016      -0.008875  0.202086\n",
       "RBIRTH2016             0.463411  0.007022"
      ]
     },
     "execution_count": 61,
     "metadata": {},
     "output_type": "execute_result"
    }
   ],
   "source": [
    "from sklearn.pipeline import Pipeline\n",
    "\n",
    "X = ratespop[features]\n",
    "y = ratespop['price']\n",
    "\n",
    "scaling = ('scaling', StandardScaler())\n",
    "pca = ('pca', PCA(n_components=2))\n",
    "pipe = Pipeline([scaling, pca])\n",
    "\n",
    "Xt = pipe.fit_transform(X)\n",
    "\n",
    "lr = LinearRegression()\n",
    "\n",
    "print(cross_val_score(lr, Xt, y, cv=5).mean())\n",
    "\n",
    "pd.DataFrame(pipe.named_steps['pca'].components_.T, columns=['PC1', 'PC2'], index=features)"
   ]
  },
  {
   "cell_type": "code",
   "execution_count": 62,
   "metadata": {},
   "outputs": [
    {
     "data": {
      "image/png": "[encoded data removed]",
      "text/plain": [
       "<matplotlib.figure.Figure at 0x27a06aa3ac8>"
      ]
     },
     "metadata": {},
     "output_type": "display_data"
    },
    {
     "name": "stdout",
     "output_type": "stream",
     "text": [
      "MSE: 0.004317859212428795\n"
     ]
    }
   ],
   "source": [
    "from sklearn.metrics import mean_squared_error, r2_score\n",
    "import statsmodels.api as sm\n",
    "\n",
    "X = ratespop[['mortgrate', 'unemp', 'cpi', 'RDEATH2016', 'RNETMIG2016', 'RNATURALINC2016',\n",
    "       'RINTERNATIONALMIG2016', 'RDOMESTICMIG2016', 'RBIRTH2016']].values\n",
    "# X = np.concatenate([X, np.ones((X.shape[0], 1))], axis=1)\n",
    "y = ratespop.price\n",
    "\n",
    "# Note the difference in argument order\n",
    "# optionally, you can chain \"fit()\" to the model object\n",
    "model = sm.OLS(y, X)\n",
    "model = model.fit()\n",
    "predictions = model.predict(X)\n",
    "\n",
    "# Plot the model\n",
    "plt.figure(figsize=(8,6))\n",
    "plt.scatter(predictions, y, s=30, c='r', marker='+', zorder=10)\n",
    "plt.xlabel(\"predictions\")\n",
    "plt.ylabel(\"y\")\n",
    "plt.show()\n",
    "\n",
    "print(\"MSE:\", mean_squared_error(y, predictions))"
   ]
  },
  {
   "cell_type": "code",
   "execution_count": 27,
   "metadata": {},
   "outputs": [
    {
     "data": {
      "text/html": [
       "<table class=\"simpletable\">\n",
       "<caption>OLS Regression Results</caption>\n",
       "<tr>\n",
       "  <th>Dep. Variable:</th>          <td>price</td>      <th>  R-squared:         </th>  <td>   0.136</td> \n",
       "</tr>\n",
       "<tr>\n",
       "  <th>Model:</th>                   <td>OLS</td>       <th>  Adj. R-squared:    </th>  <td>   0.135</td> \n",
       "</tr>\n",
       "<tr>\n",
       "  <th>Method:</th>             <td>Least Squares</td>  <th>  F-statistic:       </th>  <td>   162.4</td> \n",
       "</tr>\n",
       "<tr>\n",
       "  <th>Date:</th>             <td>Sat, 07 Apr 2018</td> <th>  Prob (F-statistic):</th>  <td>9.01e-287</td>\n",
       "</tr>\n",
       "<tr>\n",
       "  <th>Time:</th>                 <td>13:49:10</td>     <th>  Log-Likelihood:    </th>  <td>  12149.</td> \n",
       "</tr>\n",
       "<tr>\n",
       "  <th>No. Observations:</th>      <td>  9320</td>      <th>  AIC:               </th> <td>-2.428e+04</td>\n",
       "</tr>\n",
       "<tr>\n",
       "  <th>Df Residuals:</th>          <td>  9311</td>      <th>  BIC:               </th> <td>-2.422e+04</td>\n",
       "</tr>\n",
       "<tr>\n",
       "  <th>Df Model:</th>              <td>     9</td>      <th>                     </th>      <td> </td>    \n",
       "</tr>\n",
       "<tr>\n",
       "  <th>Covariance Type:</th>      <td>nonrobust</td>    <th>                     </th>      <td> </td>    \n",
       "</tr>\n",
       "</table>\n",
       "<table class=\"simpletable\">\n",
       "<tr>\n",
       "   <td></td>     <th>coef</th>     <th>std err</th>      <th>t</th>      <th>P>|t|</th>  <th>[0.025</th>    <th>0.975]</th>  \n",
       "</tr>\n",
       "<tr>\n",
       "  <th>x1</th> <td>   -2.4308</td> <td>    0.129</td> <td>  -18.819</td> <td> 0.000</td> <td>   -2.684</td> <td>   -2.178</td>\n",
       "</tr>\n",
       "<tr>\n",
       "  <th>x2</th> <td>    2.7883</td> <td>    0.135</td> <td>   20.685</td> <td> 0.000</td> <td>    2.524</td> <td>    3.053</td>\n",
       "</tr>\n",
       "<tr>\n",
       "  <th>x3</th> <td>   16.2702</td> <td>    1.077</td> <td>   15.112</td> <td> 0.000</td> <td>   14.160</td> <td>   18.381</td>\n",
       "</tr>\n",
       "<tr>\n",
       "  <th>x4</th> <td> -3.94e+06</td> <td> 1.77e+06</td> <td>   -2.226</td> <td> 0.026</td> <td>-7.41e+06</td> <td>-4.71e+05</td>\n",
       "</tr>\n",
       "<tr>\n",
       "  <th>x5</th> <td>-1.734e+04</td> <td> 6.09e+05</td> <td>   -0.028</td> <td> 0.977</td> <td>-1.21e+06</td> <td> 1.18e+06</td>\n",
       "</tr>\n",
       "<tr>\n",
       "  <th>x6</th> <td> -3.94e+06</td> <td> 1.77e+06</td> <td>   -2.226</td> <td> 0.026</td> <td>-7.41e+06</td> <td>-4.71e+05</td>\n",
       "</tr>\n",
       "<tr>\n",
       "  <th>x7</th> <td> 1.734e+04</td> <td> 6.09e+05</td> <td>    0.028</td> <td> 0.977</td> <td>-1.18e+06</td> <td> 1.21e+06</td>\n",
       "</tr>\n",
       "<tr>\n",
       "  <th>x8</th> <td> 1.734e+04</td> <td> 6.09e+05</td> <td>    0.028</td> <td> 0.977</td> <td>-1.18e+06</td> <td> 1.21e+06</td>\n",
       "</tr>\n",
       "<tr>\n",
       "  <th>x9</th> <td>  3.94e+06</td> <td> 1.77e+06</td> <td>    2.226</td> <td> 0.026</td> <td> 4.71e+05</td> <td> 7.41e+06</td>\n",
       "</tr>\n",
       "</table>\n",
       "<table class=\"simpletable\">\n",
       "<tr>\n",
       "  <th>Omnibus:</th>       <td>66.376</td> <th>  Durbin-Watson:     </th> <td>   1.662</td>\n",
       "</tr>\n",
       "<tr>\n",
       "  <th>Prob(Omnibus):</th> <td> 0.000</td> <th>  Jarque-Bera (JB):  </th> <td>  67.710</td>\n",
       "</tr>\n",
       "<tr>\n",
       "  <th>Skew:</th>          <td> 0.204</td> <th>  Prob(JB):          </th> <td>1.98e-15</td>\n",
       "</tr>\n",
       "<tr>\n",
       "  <th>Kurtosis:</th>      <td> 3.093</td> <th>  Cond. No.          </th> <td>6.97e+10</td>\n",
       "</tr>\n",
       "</table>"
      ],
      "text/plain": [
       "<class 'statsmodels.iolib.summary.Summary'>\n",
       "\"\"\"\n",
       "                            OLS Regression Results                            \n",
       "==============================================================================\n",
       "Dep. Variable:                  price   R-squared:                       0.136\n",
       "Model:                            OLS   Adj. R-squared:                  0.135\n",
       "Method:                 Least Squares   F-statistic:                     162.4\n",
       "Date:                Sat, 07 Apr 2018   Prob (F-statistic):          9.01e-287\n",
       "Time:                        13:49:10   Log-Likelihood:                 12149.\n",
       "No. Observations:                9320   AIC:                        -2.428e+04\n",
       "Df Residuals:                    9311   BIC:                        -2.422e+04\n",
       "Df Model:                           9                                         \n",
       "Covariance Type:            nonrobust                                         \n",
       "==============================================================================\n",
       "                 coef    std err          t      P>|t|      [0.025      0.975]\n",
       "------------------------------------------------------------------------------\n",
       "x1            -2.4308      0.129    -18.819      0.000      -2.684      -2.178\n",
       "x2             2.7883      0.135     20.685      0.000       2.524       3.053\n",
       "x3            16.2702      1.077     15.112      0.000      14.160      18.381\n",
       "x4          -3.94e+06   1.77e+06     -2.226      0.026   -7.41e+06   -4.71e+05\n",
       "x5         -1.734e+04   6.09e+05     -0.028      0.977   -1.21e+06    1.18e+06\n",
       "x6          -3.94e+06   1.77e+06     -2.226      0.026   -7.41e+06   -4.71e+05\n",
       "x7          1.734e+04   6.09e+05      0.028      0.977   -1.18e+06    1.21e+06\n",
       "x8          1.734e+04   6.09e+05      0.028      0.977   -1.18e+06    1.21e+06\n",
       "x9           3.94e+06   1.77e+06      2.226      0.026    4.71e+05    7.41e+06\n",
       "==============================================================================\n",
       "Omnibus:                       66.376   Durbin-Watson:                   1.662\n",
       "Prob(Omnibus):                  0.000   Jarque-Bera (JB):               67.710\n",
       "Skew:                           0.204   Prob(JB):                     1.98e-15\n",
       "Kurtosis:                       3.093   Cond. No.                     6.97e+10\n",
       "==============================================================================\n",
       "\n",
       "Warnings:\n",
       "[1] Standard Errors assume that the covariance matrix of the errors is correctly specified.\n",
       "[2] The smallest eigenvalue is 4.6e-16. This might indicate that there are\n",
       "strong multicollinearity problems or that the design matrix is singular.\n",
       "\"\"\""
      ]
     },
     "execution_count": 27,
     "metadata": {},
     "output_type": "execute_result"
    }
   ],
   "source": [
    "model.summary()"
   ]
  },
  {
   "cell_type": "markdown",
   "metadata": {},
   "source": [
    "-------------------------------LINEAR MODEL---------------------------------"
   ]
  },
  {
   "cell_type": "code",
   "execution_count": 63,
   "metadata": {},
   "outputs": [],
   "source": [
    "from sklearn import linear_model as LR"
   ]
  },
  {
   "cell_type": "code",
   "execution_count": 21,
   "metadata": {},
   "outputs": [
    {
     "data": {
      "image/png": "[encoded data removed]",
      "text/plain": [
       "<matplotlib.figure.Figure at 0x1d6c1856cf8>"
      ]
     },
     "metadata": {},
     "output_type": "display_data"
    }
   ],
   "source": [
    "def correlation_heat_map(df):\n",
    "    corrs = df.corr()\n",
    "\n",
    "    # Set the default matplotlib figure size:\n",
    "    fig, ax = plt.subplots(figsize=(11,7))\n",
    "\n",
    "    # Generate a mask for the upper triangle (taken from the Seaborn example gallery):\n",
    "    mask = np.zeros_like(corrs, dtype=np.bool)\n",
    "    mask[np.triu_indices_from(mask)] = True\n",
    "\n",
    "    # Plot the heatmap with Seaborn.\n",
    "    # Assign the matplotlib axis the function returns. This allow us to resize the labels.\n",
    "    cmap = sns.diverging_palette(220, 10, as_cmap=True)\n",
    "    ax = sns.heatmap(corrs, mask=mask, annot=True, cmap=cmap, vmin=-1, vmax=1)\n",
    "\n",
    "    # Resize the labels.\n",
    "    ax.set_xticklabels(ax.xaxis.get_ticklabels(), fontsize=14, rotation=30)\n",
    "    ax.set_yticklabels(ax.yaxis.get_ticklabels(), fontsize=14, rotation=0)\n",
    "\n",
    "    # If you put plt.show() at the bottom, it prevents those useless printouts from matplotlib.\n",
    "    plt.show()\n",
    "\n",
    "df_with_target = ratespop2.copy()\n",
    "df_with_target['price'] = y\n",
    "\n",
    "correlation_heat_map(df_with_target)\n",
    "ratespop2['price']=y\n"
   ]
  },
  {
   "cell_type": "code",
   "execution_count": 65,
   "metadata": {},
   "outputs": [],
   "source": [
    "#                            Train test Split\n",
    "X_train, X_test, y_train, y_test = train_test_split(X, y, test_size=0.2)"
   ]
  },
  {
   "cell_type": "markdown",
   "metadata": {},
   "source": [
    "-------------------------------MLR------------------------------------"
   ]
  },
  {
   "cell_type": "code",
   "execution_count": 66,
   "metadata": {},
   "outputs": [],
   "source": [
    "from sklearn.cross_validation import train_test_split"
   ]
  },
  {
   "cell_type": "code",
   "execution_count": 34,
   "metadata": {},
   "outputs": [],
   "source": [
    "x_train, x_test, y_train, y_test = train_test_split(X, y, test_size=0.8)"
   ]
  },
  {
   "cell_type": "code",
   "execution_count": 37,
   "metadata": {},
   "outputs": [
    {
     "name": "stdout",
     "output_type": "stream",
     "text": [
      "1864\n",
      "7456\n"
     ]
    }
   ],
   "source": [
    "print(len(x_train))\n",
    "print(len(x_test))"
   ]
  },
  {
   "cell_type": "code",
   "execution_count": 67,
   "metadata": {},
   "outputs": [
    {
     "data": {
      "image/png": "[encoded data removed]",
      "text/plain": [
       "<matplotlib.figure.Figure at 0x27a08fe6e48>"
      ]
     },
     "metadata": {},
     "output_type": "display_data"
    },
    {
     "name": "stdout",
     "output_type": "stream",
     "text": [
      "MSE: 0.004585420844985714\n"
     ]
    }
   ],
   "source": [
    "import statsmodels.api as sm\n",
    "\n",
    "X = X_train#ratespop[['mortgrate', 'unemp', 'cpi', 'RDEATH2016', 'RNETMIG2016',\n",
    "       #'RNATURALINC2016', 'RINTERNATIONALMIG2016', 'RDOMESTICMIG2016',\n",
    "       #'RBIRTH2016']].values\n",
    "#X = np.concatenate([X, np.ones((X.shape[0], 1))], axis=1)\n",
    "y = y_train#ratespop['price']\n",
    "\n",
    "# Note the difference in argument order\n",
    "# optionally, you can chain \"fit()\" to the model object\n",
    "model = sm.OLS(y, X)\n",
    "model = model.fit()\n",
    "predictions = model.predict(X_test)\n",
    "\n",
    "# Plot the model\n",
    "plt.figure(figsize=(8,6))\n",
    "plt.scatter(predictions, y_test, s=30, c='r', marker='+', zorder=10)\n",
    "plt.xlabel(\"Predicted Values - $\\hat{y}$\")\n",
    "plt.ylabel(\"Actual Values - $y$\")\n",
    "plt.show()\n",
    "\n",
    "print(\"MSE:\", mean_squared_error(y_test, predictions))\n"
   ]
  },
  {
   "cell_type": "code",
   "execution_count": 68,
   "metadata": {
    "scrolled": true
   },
   "outputs": [
    {
     "data": {
      "text/html": [
       "<div>\n",
       "<style scoped>\n",
       "    .dataframe tbody tr th:only-of-type {\n",
       "        vertical-align: middle;\n",
       "    }\n",
       "\n",
       "    .dataframe tbody tr th {\n",
       "        vertical-align: top;\n",
       "    }\n",
       "\n",
       "    .dataframe thead th {\n",
       "        text-align: right;\n",
       "    }\n",
       "</style>\n",
       "<table border=\"1\" class=\"dataframe\">\n",
       "  <thead>\n",
       "    <tr style=\"text-align: right;\">\n",
       "      <th></th>\n",
       "      <th>mortgrate</th>\n",
       "      <th>unemp</th>\n",
       "      <th>cpi</th>\n",
       "      <th>RDEATH2016</th>\n",
       "      <th>RNETMIG2016</th>\n",
       "      <th>RNATURALINC2016</th>\n",
       "      <th>RINTERNATIONALMIG2016</th>\n",
       "      <th>RDOMESTICMIG2016</th>\n",
       "      <th>RBIRTH2016</th>\n",
       "    </tr>\n",
       "  </thead>\n",
       "  <tbody>\n",
       "    <tr>\n",
       "      <th>0</th>\n",
       "      <td>0.010616</td>\n",
       "      <td>-0.021505</td>\n",
       "      <td>0.004763</td>\n",
       "      <td>9.218433</td>\n",
       "      <td>6.163804</td>\n",
       "      <td>2.345519</td>\n",
       "      <td>0.327282</td>\n",
       "      <td>5.836523</td>\n",
       "      <td>11.563952</td>\n",
       "    </tr>\n",
       "    <tr>\n",
       "      <th>1</th>\n",
       "      <td>0.010616</td>\n",
       "      <td>-0.021505</td>\n",
       "      <td>0.004763</td>\n",
       "      <td>9.868812</td>\n",
       "      <td>15.757654</td>\n",
       "      <td>1.962947</td>\n",
       "      <td>0.989585</td>\n",
       "      <td>14.768069</td>\n",
       "      <td>11.831760</td>\n",
       "    </tr>\n",
       "    <tr>\n",
       "      <th>2</th>\n",
       "      <td>0.010616</td>\n",
       "      <td>-0.021505</td>\n",
       "      <td>0.004763</td>\n",
       "      <td>11.632586</td>\n",
       "      <td>-1.280316</td>\n",
       "      <td>0.621868</td>\n",
       "      <td>-0.146322</td>\n",
       "      <td>-1.133994</td>\n",
       "      <td>12.254454</td>\n",
       "    </tr>\n",
       "    <tr>\n",
       "      <th>3</th>\n",
       "      <td>0.010616</td>\n",
       "      <td>-0.021505</td>\n",
       "      <td>0.004763</td>\n",
       "      <td>9.871136</td>\n",
       "      <td>1.755255</td>\n",
       "      <td>3.058662</td>\n",
       "      <td>-0.052136</td>\n",
       "      <td>1.807391</td>\n",
       "      <td>12.929798</td>\n",
       "    </tr>\n",
       "    <tr>\n",
       "      <th>4</th>\n",
       "      <td>0.010616</td>\n",
       "      <td>-0.021505</td>\n",
       "      <td>0.004763</td>\n",
       "      <td>11.911623</td>\n",
       "      <td>6.186359</td>\n",
       "      <td>-3.419789</td>\n",
       "      <td>0.076849</td>\n",
       "      <td>6.109510</td>\n",
       "      <td>8.491835</td>\n",
       "    </tr>\n",
       "    <tr>\n",
       "      <th>5</th>\n",
       "      <td>0.010616</td>\n",
       "      <td>-0.021505</td>\n",
       "      <td>0.004763</td>\n",
       "      <td>10.092682</td>\n",
       "      <td>2.721845</td>\n",
       "      <td>3.397340</td>\n",
       "      <td>1.728471</td>\n",
       "      <td>0.993374</td>\n",
       "      <td>13.490022</td>\n",
       "    </tr>\n",
       "    <tr>\n",
       "      <th>6</th>\n",
       "      <td>0.010616</td>\n",
       "      <td>-0.021505</td>\n",
       "      <td>0.004763</td>\n",
       "      <td>12.314073</td>\n",
       "      <td>0.715721</td>\n",
       "      <td>-1.229572</td>\n",
       "      <td>0.568907</td>\n",
       "      <td>0.146815</td>\n",
       "      <td>11.084501</td>\n",
       "    </tr>\n",
       "    <tr>\n",
       "      <th>7</th>\n",
       "      <td>0.010616</td>\n",
       "      <td>-0.021505</td>\n",
       "      <td>0.004763</td>\n",
       "      <td>12.890980</td>\n",
       "      <td>6.933186</td>\n",
       "      <td>-0.685410</td>\n",
       "      <td>0.184533</td>\n",
       "      <td>6.748652</td>\n",
       "      <td>12.205570</td>\n",
       "    </tr>\n",
       "    <tr>\n",
       "      <th>8</th>\n",
       "      <td>0.010616</td>\n",
       "      <td>-0.021505</td>\n",
       "      <td>0.004763</td>\n",
       "      <td>11.309054</td>\n",
       "      <td>-1.193043</td>\n",
       "      <td>1.056340</td>\n",
       "      <td>0.323116</td>\n",
       "      <td>-1.516159</td>\n",
       "      <td>12.365394</td>\n",
       "    </tr>\n",
       "    <tr>\n",
       "      <th>9</th>\n",
       "      <td>0.010616</td>\n",
       "      <td>-0.021505</td>\n",
       "      <td>0.004763</td>\n",
       "      <td>9.355189</td>\n",
       "      <td>-9.574140</td>\n",
       "      <td>4.458643</td>\n",
       "      <td>1.154470</td>\n",
       "      <td>-10.728610</td>\n",
       "      <td>13.813832</td>\n",
       "    </tr>\n",
       "    <tr>\n",
       "      <th>10</th>\n",
       "      <td>0.010616</td>\n",
       "      <td>-0.021505</td>\n",
       "      <td>0.004763</td>\n",
       "      <td>8.884545</td>\n",
       "      <td>2.518750</td>\n",
       "      <td>3.233022</td>\n",
       "      <td>0.426057</td>\n",
       "      <td>2.092692</td>\n",
       "      <td>12.117567</td>\n",
       "    </tr>\n",
       "    <tr>\n",
       "      <th>11</th>\n",
       "      <td>0.010616</td>\n",
       "      <td>-0.021505</td>\n",
       "      <td>0.004763</td>\n",
       "      <td>11.497106</td>\n",
       "      <td>-2.978796</td>\n",
       "      <td>1.149711</td>\n",
       "      <td>0.052260</td>\n",
       "      <td>-3.031055</td>\n",
       "      <td>12.646817</td>\n",
       "    </tr>\n",
       "    <tr>\n",
       "      <th>12</th>\n",
       "      <td>0.010616</td>\n",
       "      <td>-0.021505</td>\n",
       "      <td>0.004763</td>\n",
       "      <td>12.995663</td>\n",
       "      <td>-0.757122</td>\n",
       "      <td>-0.996718</td>\n",
       "      <td>0.364185</td>\n",
       "      <td>-1.121307</td>\n",
       "      <td>11.998946</td>\n",
       "    </tr>\n",
       "    <tr>\n",
       "      <th>13</th>\n",
       "      <td>0.010616</td>\n",
       "      <td>-0.021505</td>\n",
       "      <td>0.004763</td>\n",
       "      <td>13.171992</td>\n",
       "      <td>0.189072</td>\n",
       "      <td>0.063024</td>\n",
       "      <td>1.607109</td>\n",
       "      <td>-1.418037</td>\n",
       "      <td>13.235016</td>\n",
       "    </tr>\n",
       "    <tr>\n",
       "      <th>14</th>\n",
       "      <td>0.010616</td>\n",
       "      <td>-0.021505</td>\n",
       "      <td>0.004763</td>\n",
       "      <td>13.199228</td>\n",
       "      <td>7.954120</td>\n",
       "      <td>-2.363180</td>\n",
       "      <td>0.749301</td>\n",
       "      <td>7.204819</td>\n",
       "      <td>10.836047</td>\n",
       "    </tr>\n",
       "    <tr>\n",
       "      <th>15</th>\n",
       "      <td>0.010616</td>\n",
       "      <td>-0.021505</td>\n",
       "      <td>0.004763</td>\n",
       "      <td>8.928746</td>\n",
       "      <td>2.760862</td>\n",
       "      <td>4.102132</td>\n",
       "      <td>0.479724</td>\n",
       "      <td>2.281138</td>\n",
       "      <td>13.030879</td>\n",
       "    </tr>\n",
       "    <tr>\n",
       "      <th>16</th>\n",
       "      <td>0.010616</td>\n",
       "      <td>-0.021505</td>\n",
       "      <td>0.004763</td>\n",
       "      <td>12.155257</td>\n",
       "      <td>2.799279</td>\n",
       "      <td>-1.390246</td>\n",
       "      <td>0.676336</td>\n",
       "      <td>2.122943</td>\n",
       "      <td>10.765011</td>\n",
       "    </tr>\n",
       "    <tr>\n",
       "      <th>17</th>\n",
       "      <td>0.010616</td>\n",
       "      <td>-0.021505</td>\n",
       "      <td>0.004763</td>\n",
       "      <td>10.493845</td>\n",
       "      <td>-3.232967</td>\n",
       "      <td>2.927454</td>\n",
       "      <td>1.114135</td>\n",
       "      <td>-4.347102</td>\n",
       "      <td>13.421299</td>\n",
       "    </tr>\n",
       "    <tr>\n",
       "      <th>18</th>\n",
       "      <td>0.010616</td>\n",
       "      <td>-0.021505</td>\n",
       "      <td>0.004763</td>\n",
       "      <td>11.837704</td>\n",
       "      <td>0.420848</td>\n",
       "      <td>-1.597065</td>\n",
       "      <td>0.528758</td>\n",
       "      <td>-0.107910</td>\n",
       "      <td>10.240639</td>\n",
       "    </tr>\n",
       "    <tr>\n",
       "      <th>19</th>\n",
       "      <td>0.010616</td>\n",
       "      <td>-0.021505</td>\n",
       "      <td>0.004763</td>\n",
       "      <td>12.317505</td>\n",
       "      <td>-5.500453</td>\n",
       "      <td>-2.223588</td>\n",
       "      <td>0.029258</td>\n",
       "      <td>-5.529711</td>\n",
       "      <td>10.093917</td>\n",
       "    </tr>\n",
       "    <tr>\n",
       "      <th>20</th>\n",
       "      <td>0.010616</td>\n",
       "      <td>-0.021505</td>\n",
       "      <td>0.004763</td>\n",
       "      <td>5.643551</td>\n",
       "      <td>17.155271</td>\n",
       "      <td>5.804996</td>\n",
       "      <td>3.593903</td>\n",
       "      <td>13.561368</td>\n",
       "      <td>11.448546</td>\n",
       "    </tr>\n",
       "    <tr>\n",
       "      <th>21</th>\n",
       "      <td>0.010616</td>\n",
       "      <td>-0.021505</td>\n",
       "      <td>0.004763</td>\n",
       "      <td>8.119336</td>\n",
       "      <td>23.492737</td>\n",
       "      <td>3.864093</td>\n",
       "      <td>0.877125</td>\n",
       "      <td>22.615612</td>\n",
       "      <td>11.983429</td>\n",
       "    </tr>\n",
       "    <tr>\n",
       "      <th>22</th>\n",
       "      <td>0.010616</td>\n",
       "      <td>-0.021505</td>\n",
       "      <td>0.004763</td>\n",
       "      <td>8.038559</td>\n",
       "      <td>5.735908</td>\n",
       "      <td>4.540188</td>\n",
       "      <td>1.571603</td>\n",
       "      <td>4.164305</td>\n",
       "      <td>12.578747</td>\n",
       "    </tr>\n",
       "    <tr>\n",
       "      <th>23</th>\n",
       "      <td>0.010616</td>\n",
       "      <td>-0.021505</td>\n",
       "      <td>0.004763</td>\n",
       "      <td>10.853584</td>\n",
       "      <td>5.036490</td>\n",
       "      <td>3.154490</td>\n",
       "      <td>1.283182</td>\n",
       "      <td>3.753308</td>\n",
       "      <td>14.008073</td>\n",
       "    </tr>\n",
       "    <tr>\n",
       "      <th>24</th>\n",
       "      <td>0.010616</td>\n",
       "      <td>-0.021505</td>\n",
       "      <td>0.004763</td>\n",
       "      <td>8.344814</td>\n",
       "      <td>-6.788336</td>\n",
       "      <td>5.375735</td>\n",
       "      <td>1.648035</td>\n",
       "      <td>-8.436372</td>\n",
       "      <td>13.720549</td>\n",
       "    </tr>\n",
       "    <tr>\n",
       "      <th>25</th>\n",
       "      <td>0.010616</td>\n",
       "      <td>-0.021505</td>\n",
       "      <td>0.004763</td>\n",
       "      <td>10.333976</td>\n",
       "      <td>1.252097</td>\n",
       "      <td>2.228733</td>\n",
       "      <td>1.035067</td>\n",
       "      <td>0.217030</td>\n",
       "      <td>12.562709</td>\n",
       "    </tr>\n",
       "    <tr>\n",
       "      <th>26</th>\n",
       "      <td>0.010616</td>\n",
       "      <td>-0.021505</td>\n",
       "      <td>0.004763</td>\n",
       "      <td>10.573404</td>\n",
       "      <td>24.363193</td>\n",
       "      <td>4.214574</td>\n",
       "      <td>0.092425</td>\n",
       "      <td>24.270768</td>\n",
       "      <td>14.787977</td>\n",
       "    </tr>\n",
       "    <tr>\n",
       "      <th>27</th>\n",
       "      <td>0.010616</td>\n",
       "      <td>-0.021505</td>\n",
       "      <td>0.004763</td>\n",
       "      <td>11.322320</td>\n",
       "      <td>-1.671506</td>\n",
       "      <td>-0.890657</td>\n",
       "      <td>0.439228</td>\n",
       "      <td>-2.110734</td>\n",
       "      <td>10.431663</td>\n",
       "    </tr>\n",
       "    <tr>\n",
       "      <th>28</th>\n",
       "      <td>0.010616</td>\n",
       "      <td>-0.021505</td>\n",
       "      <td>0.004763</td>\n",
       "      <td>8.807941</td>\n",
       "      <td>5.550279</td>\n",
       "      <td>3.461904</td>\n",
       "      <td>1.302043</td>\n",
       "      <td>4.248236</td>\n",
       "      <td>12.269845</td>\n",
       "    </tr>\n",
       "    <tr>\n",
       "      <th>29</th>\n",
       "      <td>0.010616</td>\n",
       "      <td>-0.021505</td>\n",
       "      <td>0.004763</td>\n",
       "      <td>8.116433</td>\n",
       "      <td>2.150508</td>\n",
       "      <td>6.784505</td>\n",
       "      <td>0.305233</td>\n",
       "      <td>1.845274</td>\n",
       "      <td>14.900938</td>\n",
       "    </tr>\n",
       "    <tr>\n",
       "      <th>...</th>\n",
       "      <td>...</td>\n",
       "      <td>...</td>\n",
       "      <td>...</td>\n",
       "      <td>...</td>\n",
       "      <td>...</td>\n",
       "      <td>...</td>\n",
       "      <td>...</td>\n",
       "      <td>...</td>\n",
       "      <td>...</td>\n",
       "    </tr>\n",
       "    <tr>\n",
       "      <th>9290</th>\n",
       "      <td>-0.022727</td>\n",
       "      <td>-0.020000</td>\n",
       "      <td>0.001653</td>\n",
       "      <td>7.384649</td>\n",
       "      <td>2.104462</td>\n",
       "      <td>5.095299</td>\n",
       "      <td>1.033198</td>\n",
       "      <td>1.071263</td>\n",
       "      <td>12.479948</td>\n",
       "    </tr>\n",
       "    <tr>\n",
       "      <th>9291</th>\n",
       "      <td>-0.022727</td>\n",
       "      <td>-0.020000</td>\n",
       "      <td>0.001653</td>\n",
       "      <td>10.147495</td>\n",
       "      <td>2.301019</td>\n",
       "      <td>-0.621275</td>\n",
       "      <td>0.529234</td>\n",
       "      <td>1.771785</td>\n",
       "      <td>9.526220</td>\n",
       "    </tr>\n",
       "    <tr>\n",
       "      <th>9292</th>\n",
       "      <td>-0.022727</td>\n",
       "      <td>-0.020000</td>\n",
       "      <td>0.001653</td>\n",
       "      <td>8.593616</td>\n",
       "      <td>-1.676678</td>\n",
       "      <td>3.471288</td>\n",
       "      <td>0.779373</td>\n",
       "      <td>-2.456051</td>\n",
       "      <td>12.064903</td>\n",
       "    </tr>\n",
       "    <tr>\n",
       "      <th>9293</th>\n",
       "      <td>-0.022727</td>\n",
       "      <td>-0.020000</td>\n",
       "      <td>0.001653</td>\n",
       "      <td>10.469108</td>\n",
       "      <td>-0.800915</td>\n",
       "      <td>-0.686499</td>\n",
       "      <td>0.514874</td>\n",
       "      <td>-1.315789</td>\n",
       "      <td>9.782609</td>\n",
       "    </tr>\n",
       "    <tr>\n",
       "      <th>9294</th>\n",
       "      <td>-0.022727</td>\n",
       "      <td>-0.020000</td>\n",
       "      <td>0.001653</td>\n",
       "      <td>8.917679</td>\n",
       "      <td>-0.569741</td>\n",
       "      <td>2.991138</td>\n",
       "      <td>0.662633</td>\n",
       "      <td>-1.232374</td>\n",
       "      <td>11.908817</td>\n",
       "    </tr>\n",
       "    <tr>\n",
       "      <th>9295</th>\n",
       "      <td>-0.022727</td>\n",
       "      <td>-0.020000</td>\n",
       "      <td>0.001653</td>\n",
       "      <td>12.224939</td>\n",
       "      <td>4.278729</td>\n",
       "      <td>-2.750611</td>\n",
       "      <td>0.122249</td>\n",
       "      <td>4.156479</td>\n",
       "      <td>9.474328</td>\n",
       "    </tr>\n",
       "    <tr>\n",
       "      <th>9296</th>\n",
       "      <td>-0.022727</td>\n",
       "      <td>-0.020000</td>\n",
       "      <td>0.001653</td>\n",
       "      <td>9.401865</td>\n",
       "      <td>-2.233592</td>\n",
       "      <td>1.212027</td>\n",
       "      <td>1.134111</td>\n",
       "      <td>-3.367703</td>\n",
       "      <td>10.613892</td>\n",
       "    </tr>\n",
       "    <tr>\n",
       "      <th>9297</th>\n",
       "      <td>-0.022727</td>\n",
       "      <td>-0.020000</td>\n",
       "      <td>0.001653</td>\n",
       "      <td>10.368945</td>\n",
       "      <td>5.738787</td>\n",
       "      <td>3.619349</td>\n",
       "      <td>0.228247</td>\n",
       "      <td>5.510540</td>\n",
       "      <td>13.988294</td>\n",
       "    </tr>\n",
       "    <tr>\n",
       "      <th>9298</th>\n",
       "      <td>-0.022727</td>\n",
       "      <td>-0.020000</td>\n",
       "      <td>0.001653</td>\n",
       "      <td>13.496474</td>\n",
       "      <td>8.266007</td>\n",
       "      <td>-5.370569</td>\n",
       "      <td>0.793910</td>\n",
       "      <td>7.472096</td>\n",
       "      <td>8.125905</td>\n",
       "    </tr>\n",
       "    <tr>\n",
       "      <th>9299</th>\n",
       "      <td>-0.022727</td>\n",
       "      <td>-0.020000</td>\n",
       "      <td>0.001653</td>\n",
       "      <td>12.818869</td>\n",
       "      <td>11.344699</td>\n",
       "      <td>-4.678887</td>\n",
       "      <td>0.448660</td>\n",
       "      <td>10.896039</td>\n",
       "      <td>8.139982</td>\n",
       "    </tr>\n",
       "    <tr>\n",
       "      <th>9300</th>\n",
       "      <td>-0.022727</td>\n",
       "      <td>-0.020000</td>\n",
       "      <td>0.001653</td>\n",
       "      <td>8.433000</td>\n",
       "      <td>4.781468</td>\n",
       "      <td>1.006625</td>\n",
       "      <td>1.346361</td>\n",
       "      <td>3.435107</td>\n",
       "      <td>9.439625</td>\n",
       "    </tr>\n",
       "    <tr>\n",
       "      <th>9301</th>\n",
       "      <td>-0.022727</td>\n",
       "      <td>-0.020000</td>\n",
       "      <td>0.001653</td>\n",
       "      <td>10.455781</td>\n",
       "      <td>4.895961</td>\n",
       "      <td>-0.829824</td>\n",
       "      <td>0.373421</td>\n",
       "      <td>4.522540</td>\n",
       "      <td>9.625957</td>\n",
       "    </tr>\n",
       "    <tr>\n",
       "      <th>9302</th>\n",
       "      <td>-0.022727</td>\n",
       "      <td>-0.020000</td>\n",
       "      <td>0.001653</td>\n",
       "      <td>4.794655</td>\n",
       "      <td>-2.358027</td>\n",
       "      <td>6.654877</td>\n",
       "      <td>4.296849</td>\n",
       "      <td>-6.654877</td>\n",
       "      <td>11.449532</td>\n",
       "    </tr>\n",
       "    <tr>\n",
       "      <th>9303</th>\n",
       "      <td>-0.022727</td>\n",
       "      <td>-0.020000</td>\n",
       "      <td>0.001653</td>\n",
       "      <td>10.085014</td>\n",
       "      <td>-0.500083</td>\n",
       "      <td>2.333722</td>\n",
       "      <td>0.416736</td>\n",
       "      <td>-0.916819</td>\n",
       "      <td>12.418736</td>\n",
       "    </tr>\n",
       "    <tr>\n",
       "      <th>9304</th>\n",
       "      <td>-0.022727</td>\n",
       "      <td>-0.020000</td>\n",
       "      <td>0.001653</td>\n",
       "      <td>6.786500</td>\n",
       "      <td>-20.298361</td>\n",
       "      <td>8.844868</td>\n",
       "      <td>0.489117</td>\n",
       "      <td>-20.787479</td>\n",
       "      <td>15.631369</td>\n",
       "    </tr>\n",
       "    <tr>\n",
       "      <th>9305</th>\n",
       "      <td>-0.022727</td>\n",
       "      <td>-0.020000</td>\n",
       "      <td>0.001653</td>\n",
       "      <td>8.854100</td>\n",
       "      <td>0.577441</td>\n",
       "      <td>3.977929</td>\n",
       "      <td>0.449121</td>\n",
       "      <td>0.128320</td>\n",
       "      <td>12.832029</td>\n",
       "    </tr>\n",
       "    <tr>\n",
       "      <th>9306</th>\n",
       "      <td>-0.022727</td>\n",
       "      <td>-0.020000</td>\n",
       "      <td>0.001653</td>\n",
       "      <td>11.935928</td>\n",
       "      <td>-4.367408</td>\n",
       "      <td>2.010000</td>\n",
       "      <td>0.322593</td>\n",
       "      <td>-4.690001</td>\n",
       "      <td>13.945929</td>\n",
       "    </tr>\n",
       "    <tr>\n",
       "      <th>9307</th>\n",
       "      <td>-0.022727</td>\n",
       "      <td>-0.020000</td>\n",
       "      <td>0.001653</td>\n",
       "      <td>10.229042</td>\n",
       "      <td>-15.047068</td>\n",
       "      <td>0.667111</td>\n",
       "      <td>1.260099</td>\n",
       "      <td>-16.307168</td>\n",
       "      <td>10.896153</td>\n",
       "    </tr>\n",
       "    <tr>\n",
       "      <th>9308</th>\n",
       "      <td>-0.022727</td>\n",
       "      <td>-0.020000</td>\n",
       "      <td>0.001653</td>\n",
       "      <td>8.902946</td>\n",
       "      <td>-12.651555</td>\n",
       "      <td>0.937152</td>\n",
       "      <td>0.585720</td>\n",
       "      <td>-13.237275</td>\n",
       "      <td>9.840098</td>\n",
       "    </tr>\n",
       "    <tr>\n",
       "      <th>9309</th>\n",
       "      <td>-0.022727</td>\n",
       "      <td>-0.020000</td>\n",
       "      <td>0.001653</td>\n",
       "      <td>8.703710</td>\n",
       "      <td>5.590854</td>\n",
       "      <td>4.116343</td>\n",
       "      <td>0.901090</td>\n",
       "      <td>4.689764</td>\n",
       "      <td>12.820053</td>\n",
       "    </tr>\n",
       "    <tr>\n",
       "      <th>9310</th>\n",
       "      <td>-0.022727</td>\n",
       "      <td>-0.020000</td>\n",
       "      <td>0.001653</td>\n",
       "      <td>6.390789</td>\n",
       "      <td>12.887211</td>\n",
       "      <td>6.337972</td>\n",
       "      <td>0.528164</td>\n",
       "      <td>12.359046</td>\n",
       "      <td>12.728761</td>\n",
       "    </tr>\n",
       "    <tr>\n",
       "      <th>9311</th>\n",
       "      <td>-0.022727</td>\n",
       "      <td>-0.020000</td>\n",
       "      <td>0.001653</td>\n",
       "      <td>8.932182</td>\n",
       "      <td>-19.751271</td>\n",
       "      <td>5.967040</td>\n",
       "      <td>0.490106</td>\n",
       "      <td>-20.241377</td>\n",
       "      <td>14.899222</td>\n",
       "    </tr>\n",
       "    <tr>\n",
       "      <th>9312</th>\n",
       "      <td>-0.022727</td>\n",
       "      <td>-0.020000</td>\n",
       "      <td>0.001653</td>\n",
       "      <td>8.902738</td>\n",
       "      <td>9.039703</td>\n",
       "      <td>1.951754</td>\n",
       "      <td>1.506617</td>\n",
       "      <td>7.533086</td>\n",
       "      <td>10.854492</td>\n",
       "    </tr>\n",
       "    <tr>\n",
       "      <th>9313</th>\n",
       "      <td>-0.022727</td>\n",
       "      <td>-0.020000</td>\n",
       "      <td>0.001653</td>\n",
       "      <td>9.379468</td>\n",
       "      <td>-15.327424</td>\n",
       "      <td>0.457535</td>\n",
       "      <td>0.114384</td>\n",
       "      <td>-15.441807</td>\n",
       "      <td>9.837003</td>\n",
       "    </tr>\n",
       "    <tr>\n",
       "      <th>9314</th>\n",
       "      <td>-0.022727</td>\n",
       "      <td>-0.020000</td>\n",
       "      <td>0.001653</td>\n",
       "      <td>11.083642</td>\n",
       "      <td>4.745391</td>\n",
       "      <td>-0.630507</td>\n",
       "      <td>1.128275</td>\n",
       "      <td>3.617117</td>\n",
       "      <td>10.453135</td>\n",
       "    </tr>\n",
       "    <tr>\n",
       "      <th>9315</th>\n",
       "      <td>-0.022727</td>\n",
       "      <td>-0.020000</td>\n",
       "      <td>0.001653</td>\n",
       "      <td>5.904510</td>\n",
       "      <td>-18.324341</td>\n",
       "      <td>6.108114</td>\n",
       "      <td>0.203604</td>\n",
       "      <td>-18.527945</td>\n",
       "      <td>12.012623</td>\n",
       "    </tr>\n",
       "    <tr>\n",
       "      <th>9316</th>\n",
       "      <td>-0.022727</td>\n",
       "      <td>-0.020000</td>\n",
       "      <td>0.001653</td>\n",
       "      <td>6.189651</td>\n",
       "      <td>-19.784375</td>\n",
       "      <td>7.405073</td>\n",
       "      <td>0.225078</td>\n",
       "      <td>-20.009453</td>\n",
       "      <td>13.594724</td>\n",
       "    </tr>\n",
       "    <tr>\n",
       "      <th>9317</th>\n",
       "      <td>-0.022727</td>\n",
       "      <td>-0.020000</td>\n",
       "      <td>0.001653</td>\n",
       "      <td>3.761024</td>\n",
       "      <td>-2.637040</td>\n",
       "      <td>6.570984</td>\n",
       "      <td>2.075048</td>\n",
       "      <td>-4.712087</td>\n",
       "      <td>10.332008</td>\n",
       "    </tr>\n",
       "    <tr>\n",
       "      <th>9318</th>\n",
       "      <td>-0.022727</td>\n",
       "      <td>-0.020000</td>\n",
       "      <td>0.001653</td>\n",
       "      <td>6.443547</td>\n",
       "      <td>-10.434699</td>\n",
       "      <td>8.415080</td>\n",
       "      <td>-0.673206</td>\n",
       "      <td>-9.761493</td>\n",
       "      <td>14.858627</td>\n",
       "    </tr>\n",
       "    <tr>\n",
       "      <th>9319</th>\n",
       "      <td>-0.022727</td>\n",
       "      <td>-0.020000</td>\n",
       "      <td>0.001653</td>\n",
       "      <td>11.225783</td>\n",
       "      <td>-11.950027</td>\n",
       "      <td>0.603537</td>\n",
       "      <td>-0.482829</td>\n",
       "      <td>-11.467198</td>\n",
       "      <td>11.829320</td>\n",
       "    </tr>\n",
       "  </tbody>\n",
       "</table>\n",
       "<p>9320 rows × 9 columns</p>\n",
       "</div>"
      ],
      "text/plain": [
       "      mortgrate     unemp       cpi  RDEATH2016  RNETMIG2016  RNATURALINC2016  \\\n",
       "0      0.010616 -0.021505  0.004763    9.218433     6.163804         2.345519   \n",
       "1      0.010616 -0.021505  0.004763    9.868812    15.757654         1.962947   \n",
       "2      0.010616 -0.021505  0.004763   11.632586    -1.280316         0.621868   \n",
       "3      0.010616 -0.021505  0.004763    9.871136     1.755255         3.058662   \n",
       "4      0.010616 -0.021505  0.004763   11.911623     6.186359        -3.419789   \n",
       "5      0.010616 -0.021505  0.004763   10.092682     2.721845         3.397340   \n",
       "6      0.010616 -0.021505  0.004763   12.314073     0.715721        -1.229572   \n",
       "7      0.010616 -0.021505  0.004763   12.890980     6.933186        -0.685410   \n",
       "8      0.010616 -0.021505  0.004763   11.309054    -1.193043         1.056340   \n",
       "9      0.010616 -0.021505  0.004763    9.355189    -9.574140         4.458643   \n",
       "10     0.010616 -0.021505  0.004763    8.884545     2.518750         3.233022   \n",
       "11     0.010616 -0.021505  0.004763   11.497106    -2.978796         1.149711   \n",
       "12     0.010616 -0.021505  0.004763   12.995663    -0.757122        -0.996718   \n",
       "13     0.010616 -0.021505  0.004763   13.171992     0.189072         0.063024   \n",
       "14     0.010616 -0.021505  0.004763   13.199228     7.954120        -2.363180   \n",
       "15     0.010616 -0.021505  0.004763    8.928746     2.760862         4.102132   \n",
       "16     0.010616 -0.021505  0.004763   12.155257     2.799279        -1.390246   \n",
       "17     0.010616 -0.021505  0.004763   10.493845    -3.232967         2.927454   \n",
       "18     0.010616 -0.021505  0.004763   11.837704     0.420848        -1.597065   \n",
       "19     0.010616 -0.021505  0.004763   12.317505    -5.500453        -2.223588   \n",
       "20     0.010616 -0.021505  0.004763    5.643551    17.155271         5.804996   \n",
       "21     0.010616 -0.021505  0.004763    8.119336    23.492737         3.864093   \n",
       "22     0.010616 -0.021505  0.004763    8.038559     5.735908         4.540188   \n",
       "23     0.010616 -0.021505  0.004763   10.853584     5.036490         3.154490   \n",
       "24     0.010616 -0.021505  0.004763    8.344814    -6.788336         5.375735   \n",
       "25     0.010616 -0.021505  0.004763   10.333976     1.252097         2.228733   \n",
       "26     0.010616 -0.021505  0.004763   10.573404    24.363193         4.214574   \n",
       "27     0.010616 -0.021505  0.004763   11.322320    -1.671506        -0.890657   \n",
       "28     0.010616 -0.021505  0.004763    8.807941     5.550279         3.461904   \n",
       "29     0.010616 -0.021505  0.004763    8.116433     2.150508         6.784505   \n",
       "...         ...       ...       ...         ...          ...              ...   \n",
       "9290  -0.022727 -0.020000  0.001653    7.384649     2.104462         5.095299   \n",
       "9291  -0.022727 -0.020000  0.001653   10.147495     2.301019        -0.621275   \n",
       "9292  -0.022727 -0.020000  0.001653    8.593616    -1.676678         3.471288   \n",
       "9293  -0.022727 -0.020000  0.001653   10.469108    -0.800915        -0.686499   \n",
       "9294  -0.022727 -0.020000  0.001653    8.917679    -0.569741         2.991138   \n",
       "9295  -0.022727 -0.020000  0.001653   12.224939     4.278729        -2.750611   \n",
       "9296  -0.022727 -0.020000  0.001653    9.401865    -2.233592         1.212027   \n",
       "9297  -0.022727 -0.020000  0.001653   10.368945     5.738787         3.619349   \n",
       "9298  -0.022727 -0.020000  0.001653   13.496474     8.266007        -5.370569   \n",
       "9299  -0.022727 -0.020000  0.001653   12.818869    11.344699        -4.678887   \n",
       "9300  -0.022727 -0.020000  0.001653    8.433000     4.781468         1.006625   \n",
       "9301  -0.022727 -0.020000  0.001653   10.455781     4.895961        -0.829824   \n",
       "9302  -0.022727 -0.020000  0.001653    4.794655    -2.358027         6.654877   \n",
       "9303  -0.022727 -0.020000  0.001653   10.085014    -0.500083         2.333722   \n",
       "9304  -0.022727 -0.020000  0.001653    6.786500   -20.298361         8.844868   \n",
       "9305  -0.022727 -0.020000  0.001653    8.854100     0.577441         3.977929   \n",
       "9306  -0.022727 -0.020000  0.001653   11.935928    -4.367408         2.010000   \n",
       "9307  -0.022727 -0.020000  0.001653   10.229042   -15.047068         0.667111   \n",
       "9308  -0.022727 -0.020000  0.001653    8.902946   -12.651555         0.937152   \n",
       "9309  -0.022727 -0.020000  0.001653    8.703710     5.590854         4.116343   \n",
       "9310  -0.022727 -0.020000  0.001653    6.390789    12.887211         6.337972   \n",
       "9311  -0.022727 -0.020000  0.001653    8.932182   -19.751271         5.967040   \n",
       "9312  -0.022727 -0.020000  0.001653    8.902738     9.039703         1.951754   \n",
       "9313  -0.022727 -0.020000  0.001653    9.379468   -15.327424         0.457535   \n",
       "9314  -0.022727 -0.020000  0.001653   11.083642     4.745391        -0.630507   \n",
       "9315  -0.022727 -0.020000  0.001653    5.904510   -18.324341         6.108114   \n",
       "9316  -0.022727 -0.020000  0.001653    6.189651   -19.784375         7.405073   \n",
       "9317  -0.022727 -0.020000  0.001653    3.761024    -2.637040         6.570984   \n",
       "9318  -0.022727 -0.020000  0.001653    6.443547   -10.434699         8.415080   \n",
       "9319  -0.022727 -0.020000  0.001653   11.225783   -11.950027         0.603537   \n",
       "\n",
       "      RINTERNATIONALMIG2016  RDOMESTICMIG2016  RBIRTH2016  \n",
       "0                  0.327282          5.836523   11.563952  \n",
       "1                  0.989585         14.768069   11.831760  \n",
       "2                 -0.146322         -1.133994   12.254454  \n",
       "3                 -0.052136          1.807391   12.929798  \n",
       "4                  0.076849          6.109510    8.491835  \n",
       "5                  1.728471          0.993374   13.490022  \n",
       "6                  0.568907          0.146815   11.084501  \n",
       "7                  0.184533          6.748652   12.205570  \n",
       "8                  0.323116         -1.516159   12.365394  \n",
       "9                  1.154470        -10.728610   13.813832  \n",
       "10                 0.426057          2.092692   12.117567  \n",
       "11                 0.052260         -3.031055   12.646817  \n",
       "12                 0.364185         -1.121307   11.998946  \n",
       "13                 1.607109         -1.418037   13.235016  \n",
       "14                 0.749301          7.204819   10.836047  \n",
       "15                 0.479724          2.281138   13.030879  \n",
       "16                 0.676336          2.122943   10.765011  \n",
       "17                 1.114135         -4.347102   13.421299  \n",
       "18                 0.528758         -0.107910   10.240639  \n",
       "19                 0.029258         -5.529711   10.093917  \n",
       "20                 3.593903         13.561368   11.448546  \n",
       "21                 0.877125         22.615612   11.983429  \n",
       "22                 1.571603          4.164305   12.578747  \n",
       "23                 1.283182          3.753308   14.008073  \n",
       "24                 1.648035         -8.436372   13.720549  \n",
       "25                 1.035067          0.217030   12.562709  \n",
       "26                 0.092425         24.270768   14.787977  \n",
       "27                 0.439228         -2.110734   10.431663  \n",
       "28                 1.302043          4.248236   12.269845  \n",
       "29                 0.305233          1.845274   14.900938  \n",
       "...                     ...               ...         ...  \n",
       "9290               1.033198          1.071263   12.479948  \n",
       "9291               0.529234          1.771785    9.526220  \n",
       "9292               0.779373         -2.456051   12.064903  \n",
       "9293               0.514874         -1.315789    9.782609  \n",
       "9294               0.662633         -1.232374   11.908817  \n",
       "9295               0.122249          4.156479    9.474328  \n",
       "9296               1.134111         -3.367703   10.613892  \n",
       "9297               0.228247          5.510540   13.988294  \n",
       "9298               0.793910          7.472096    8.125905  \n",
       "9299               0.448660         10.896039    8.139982  \n",
       "9300               1.346361          3.435107    9.439625  \n",
       "9301               0.373421          4.522540    9.625957  \n",
       "9302               4.296849         -6.654877   11.449532  \n",
       "9303               0.416736         -0.916819   12.418736  \n",
       "9304               0.489117        -20.787479   15.631369  \n",
       "9305               0.449121          0.128320   12.832029  \n",
       "9306               0.322593         -4.690001   13.945929  \n",
       "9307               1.260099        -16.307168   10.896153  \n",
       "9308               0.585720        -13.237275    9.840098  \n",
       "9309               0.901090          4.689764   12.820053  \n",
       "9310               0.528164         12.359046   12.728761  \n",
       "9311               0.490106        -20.241377   14.899222  \n",
       "9312               1.506617          7.533086   10.854492  \n",
       "9313               0.114384        -15.441807    9.837003  \n",
       "9314               1.128275          3.617117   10.453135  \n",
       "9315               0.203604        -18.527945   12.012623  \n",
       "9316               0.225078        -20.009453   13.594724  \n",
       "9317               2.075048         -4.712087   10.332008  \n",
       "9318              -0.673206         -9.761493   14.858627  \n",
       "9319              -0.482829        -11.467198   11.829320  \n",
       "\n",
       "[9320 rows x 9 columns]"
      ]
     },
     "execution_count": 68,
     "metadata": {},
     "output_type": "execute_result"
    }
   ],
   "source": [
    "ratespop[['mortgrate', 'unemp', 'cpi', 'RDEATH2016', 'RNETMIG2016',\n",
    "       'RNATURALINC2016', 'RINTERNATIONALMIG2016', 'RDOMESTICMIG2016',\n",
    "       'RBIRTH2016']]"
   ]
  },
  {
   "cell_type": "code",
   "execution_count": 69,
   "metadata": {},
   "outputs": [
    {
     "data": {
      "text/html": [
       "<table class=\"simpletable\">\n",
       "<caption>OLS Regression Results</caption>\n",
       "<tr>\n",
       "  <th>Dep. Variable:</th>          <td>price</td>      <th>  R-squared:         </th>  <td>   0.143</td> \n",
       "</tr>\n",
       "<tr>\n",
       "  <th>Model:</th>                   <td>OLS</td>       <th>  Adj. R-squared:    </th>  <td>   0.142</td> \n",
       "</tr>\n",
       "<tr>\n",
       "  <th>Method:</th>             <td>Least Squares</td>  <th>  F-statistic:       </th>  <td>   138.3</td> \n",
       "</tr>\n",
       "<tr>\n",
       "  <th>Date:</th>             <td>Sat, 07 Apr 2018</td> <th>  Prob (F-statistic):</th>  <td>3.59e-242</td>\n",
       "</tr>\n",
       "<tr>\n",
       "  <th>Time:</th>                 <td>14:03:50</td>     <th>  Log-Likelihood:    </th>  <td>  9774.7</td> \n",
       "</tr>\n",
       "<tr>\n",
       "  <th>No. Observations:</th>      <td>  7456</td>      <th>  AIC:               </th> <td>-1.953e+04</td>\n",
       "</tr>\n",
       "<tr>\n",
       "  <th>Df Residuals:</th>          <td>  7447</td>      <th>  BIC:               </th> <td>-1.947e+04</td>\n",
       "</tr>\n",
       "<tr>\n",
       "  <th>Df Model:</th>              <td>     9</td>      <th>                     </th>      <td> </td>    \n",
       "</tr>\n",
       "<tr>\n",
       "  <th>Covariance Type:</th>      <td>nonrobust</td>    <th>                     </th>      <td> </td>    \n",
       "</tr>\n",
       "</table>\n",
       "<table class=\"simpletable\">\n",
       "<tr>\n",
       "   <td></td>     <th>coef</th>     <th>std err</th>      <th>t</th>      <th>P>|t|</th>  <th>[0.025</th>    <th>0.975]</th>  \n",
       "</tr>\n",
       "<tr>\n",
       "  <th>x1</th> <td>   -2.5622</td> <td>    0.143</td> <td>  -17.910</td> <td> 0.000</td> <td>   -2.843</td> <td>   -2.282</td>\n",
       "</tr>\n",
       "<tr>\n",
       "  <th>x2</th> <td>    2.9493</td> <td>    0.149</td> <td>   19.740</td> <td> 0.000</td> <td>    2.656</td> <td>    3.242</td>\n",
       "</tr>\n",
       "<tr>\n",
       "  <th>x3</th> <td>   17.2360</td> <td>    1.193</td> <td>   14.452</td> <td> 0.000</td> <td>   14.898</td> <td>   19.574</td>\n",
       "</tr>\n",
       "<tr>\n",
       "  <th>x4</th> <td> -3.48e+06</td> <td> 1.95e+06</td> <td>   -1.781</td> <td> 0.075</td> <td>-7.31e+06</td> <td>  3.5e+05</td>\n",
       "</tr>\n",
       "<tr>\n",
       "  <th>x5</th> <td>-6.985e+05</td> <td>  6.7e+05</td> <td>   -1.043</td> <td> 0.297</td> <td>-2.01e+06</td> <td> 6.14e+05</td>\n",
       "</tr>\n",
       "<tr>\n",
       "  <th>x6</th> <td> -3.48e+06</td> <td> 1.95e+06</td> <td>   -1.781</td> <td> 0.075</td> <td>-7.31e+06</td> <td>  3.5e+05</td>\n",
       "</tr>\n",
       "<tr>\n",
       "  <th>x7</th> <td> 6.985e+05</td> <td>  6.7e+05</td> <td>    1.043</td> <td> 0.297</td> <td>-6.14e+05</td> <td> 2.01e+06</td>\n",
       "</tr>\n",
       "<tr>\n",
       "  <th>x8</th> <td> 6.985e+05</td> <td>  6.7e+05</td> <td>    1.043</td> <td> 0.297</td> <td>-6.14e+05</td> <td> 2.01e+06</td>\n",
       "</tr>\n",
       "<tr>\n",
       "  <th>x9</th> <td>  3.48e+06</td> <td> 1.95e+06</td> <td>    1.781</td> <td> 0.075</td> <td> -3.5e+05</td> <td> 7.31e+06</td>\n",
       "</tr>\n",
       "</table>\n",
       "<table class=\"simpletable\">\n",
       "<tr>\n",
       "  <th>Omnibus:</th>       <td>44.088</td> <th>  Durbin-Watson:     </th> <td>   2.009</td>\n",
       "</tr>\n",
       "<tr>\n",
       "  <th>Prob(Omnibus):</th> <td> 0.000</td> <th>  Jarque-Bera (JB):  </th> <td>  44.777</td>\n",
       "</tr>\n",
       "<tr>\n",
       "  <th>Skew:</th>          <td> 0.184</td> <th>  Prob(JB):          </th> <td>1.89e-10</td>\n",
       "</tr>\n",
       "<tr>\n",
       "  <th>Kurtosis:</th>      <td> 3.091</td> <th>  Cond. No.          </th> <td>6.93e+10</td>\n",
       "</tr>\n",
       "</table>"
      ],
      "text/plain": [
       "<class 'statsmodels.iolib.summary.Summary'>\n",
       "\"\"\"\n",
       "                            OLS Regression Results                            \n",
       "==============================================================================\n",
       "Dep. Variable:                  price   R-squared:                       0.143\n",
       "Model:                            OLS   Adj. R-squared:                  0.142\n",
       "Method:                 Least Squares   F-statistic:                     138.3\n",
       "Date:                Sat, 07 Apr 2018   Prob (F-statistic):          3.59e-242\n",
       "Time:                        14:03:50   Log-Likelihood:                 9774.7\n",
       "No. Observations:                7456   AIC:                        -1.953e+04\n",
       "Df Residuals:                    7447   BIC:                        -1.947e+04\n",
       "Df Model:                           9                                         \n",
       "Covariance Type:            nonrobust                                         \n",
       "==============================================================================\n",
       "                 coef    std err          t      P>|t|      [0.025      0.975]\n",
       "------------------------------------------------------------------------------\n",
       "x1            -2.5622      0.143    -17.910      0.000      -2.843      -2.282\n",
       "x2             2.9493      0.149     19.740      0.000       2.656       3.242\n",
       "x3            17.2360      1.193     14.452      0.000      14.898      19.574\n",
       "x4          -3.48e+06   1.95e+06     -1.781      0.075   -7.31e+06     3.5e+05\n",
       "x5         -6.985e+05    6.7e+05     -1.043      0.297   -2.01e+06    6.14e+05\n",
       "x6          -3.48e+06   1.95e+06     -1.781      0.075   -7.31e+06     3.5e+05\n",
       "x7          6.985e+05    6.7e+05      1.043      0.297   -6.14e+05    2.01e+06\n",
       "x8          6.985e+05    6.7e+05      1.043      0.297   -6.14e+05    2.01e+06\n",
       "x9           3.48e+06   1.95e+06      1.781      0.075    -3.5e+05    7.31e+06\n",
       "==============================================================================\n",
       "Omnibus:                       44.088   Durbin-Watson:                   2.009\n",
       "Prob(Omnibus):                  0.000   Jarque-Bera (JB):               44.777\n",
       "Skew:                           0.184   Prob(JB):                     1.89e-10\n",
       "Kurtosis:                       3.091   Cond. No.                     6.93e+10\n",
       "==============================================================================\n",
       "\n",
       "Warnings:\n",
       "[1] Standard Errors assume that the covariance matrix of the errors is correctly specified.\n",
       "[2] The smallest eigenvalue is 3.72e-16. This might indicate that there are\n",
       "strong multicollinearity problems or that the design matrix is singular.\n",
       "\"\"\""
      ]
     },
     "execution_count": 69,
     "metadata": {},
     "output_type": "execute_result"
    }
   ],
   "source": [
    "model.summary()"
   ]
  },
  {
   "cell_type": "code",
   "execution_count": 70,
   "metadata": {
    "scrolled": false
   },
   "outputs": [
    {
     "data": {
      "image/png": "[encoded data removed]",
      "text/plain": [
       "<matplotlib.figure.Figure at 0x27a039260b8>"
      ]
     },
     "metadata": {},
     "output_type": "display_data"
    },
    {
     "name": "stdout",
     "output_type": "stream",
     "text": [
      "MSE: 0.004318391898567479\n"
     ]
    },
    {
     "data": {
      "text/html": [
       "<table class=\"simpletable\">\n",
       "<caption>OLS Regression Results</caption>\n",
       "<tr>\n",
       "  <th>Dep. Variable:</th>          <td>price</td>      <th>  R-squared:         </th>  <td>   0.136</td> \n",
       "</tr>\n",
       "<tr>\n",
       "  <th>Model:</th>                   <td>OLS</td>       <th>  Adj. R-squared:    </th>  <td>   0.135</td> \n",
       "</tr>\n",
       "<tr>\n",
       "  <th>Method:</th>             <td>Least Squares</td>  <th>  F-statistic:       </th>  <td>   208.6</td> \n",
       "</tr>\n",
       "<tr>\n",
       "  <th>Date:</th>             <td>Sat, 07 Apr 2018</td> <th>  Prob (F-statistic):</th>  <td>7.64e-289</td>\n",
       "</tr>\n",
       "<tr>\n",
       "  <th>Time:</th>                 <td>14:04:01</td>     <th>  Log-Likelihood:    </th>  <td>  12149.</td> \n",
       "</tr>\n",
       "<tr>\n",
       "  <th>No. Observations:</th>      <td>  9320</td>      <th>  AIC:               </th> <td>-2.428e+04</td>\n",
       "</tr>\n",
       "<tr>\n",
       "  <th>Df Residuals:</th>          <td>  9313</td>      <th>  BIC:               </th> <td>-2.423e+04</td>\n",
       "</tr>\n",
       "<tr>\n",
       "  <th>Df Model:</th>              <td>     7</td>      <th>                     </th>      <td> </td>    \n",
       "</tr>\n",
       "<tr>\n",
       "  <th>Covariance Type:</th>      <td>nonrobust</td>    <th>                     </th>      <td> </td>    \n",
       "</tr>\n",
       "</table>\n",
       "<table class=\"simpletable\">\n",
       "<tr>\n",
       "   <td></td>     <th>coef</th>     <th>std err</th>      <th>t</th>      <th>P>|t|</th>  <th>[0.025</th>    <th>0.975]</th>  \n",
       "</tr>\n",
       "<tr>\n",
       "  <th>x1</th> <td>   -2.4539</td> <td>    0.127</td> <td>  -19.269</td> <td> 0.000</td> <td>   -2.704</td> <td>   -2.204</td>\n",
       "</tr>\n",
       "<tr>\n",
       "  <th>x2</th> <td>    2.8084</td> <td>    0.133</td> <td>   21.041</td> <td> 0.000</td> <td>    2.547</td> <td>    3.070</td>\n",
       "</tr>\n",
       "<tr>\n",
       "  <th>x3</th> <td>   16.4419</td> <td>    1.065</td> <td>   15.444</td> <td> 0.000</td> <td>   14.355</td> <td>   18.529</td>\n",
       "</tr>\n",
       "<tr>\n",
       "  <th>x4</th> <td>-3.955e+06</td> <td> 1.77e+06</td> <td>   -2.235</td> <td> 0.025</td> <td>-7.42e+06</td> <td>-4.87e+05</td>\n",
       "</tr>\n",
       "<tr>\n",
       "  <th>x5</th> <td>-3.955e+06</td> <td> 1.77e+06</td> <td>   -2.235</td> <td> 0.025</td> <td>-7.42e+06</td> <td>-4.87e+05</td>\n",
       "</tr>\n",
       "<tr>\n",
       "  <th>x6</th> <td>    0.0011</td> <td> 7.45e-05</td> <td>   14.469</td> <td> 0.000</td> <td>    0.001</td> <td>    0.001</td>\n",
       "</tr>\n",
       "<tr>\n",
       "  <th>x7</th> <td> 3.955e+06</td> <td> 1.77e+06</td> <td>    2.235</td> <td> 0.025</td> <td> 4.87e+05</td> <td> 7.42e+06</td>\n",
       "</tr>\n",
       "</table>\n",
       "<table class=\"simpletable\">\n",
       "<tr>\n",
       "  <th>Omnibus:</th>       <td>65.351</td> <th>  Durbin-Watson:     </th> <td>   1.663</td>\n",
       "</tr>\n",
       "<tr>\n",
       "  <th>Prob(Omnibus):</th> <td> 0.000</td> <th>  Jarque-Bera (JB):  </th> <td>  66.657</td>\n",
       "</tr>\n",
       "<tr>\n",
       "  <th>Skew:</th>          <td> 0.202</td> <th>  Prob(JB):          </th> <td>3.36e-15</td>\n",
       "</tr>\n",
       "<tr>\n",
       "  <th>Kurtosis:</th>      <td> 3.095</td> <th>  Cond. No.          </th> <td>6.90e+10</td>\n",
       "</tr>\n",
       "</table>"
      ],
      "text/plain": [
       "<class 'statsmodels.iolib.summary.Summary'>\n",
       "\"\"\"\n",
       "                            OLS Regression Results                            \n",
       "==============================================================================\n",
       "Dep. Variable:                  price   R-squared:                       0.136\n",
       "Model:                            OLS   Adj. R-squared:                  0.135\n",
       "Method:                 Least Squares   F-statistic:                     208.6\n",
       "Date:                Sat, 07 Apr 2018   Prob (F-statistic):          7.64e-289\n",
       "Time:                        14:04:01   Log-Likelihood:                 12149.\n",
       "No. Observations:                9320   AIC:                        -2.428e+04\n",
       "Df Residuals:                    9313   BIC:                        -2.423e+04\n",
       "Df Model:                           7                                         \n",
       "Covariance Type:            nonrobust                                         \n",
       "==============================================================================\n",
       "                 coef    std err          t      P>|t|      [0.025      0.975]\n",
       "------------------------------------------------------------------------------\n",
       "x1            -2.4539      0.127    -19.269      0.000      -2.704      -2.204\n",
       "x2             2.8084      0.133     21.041      0.000       2.547       3.070\n",
       "x3            16.4419      1.065     15.444      0.000      14.355      18.529\n",
       "x4         -3.955e+06   1.77e+06     -2.235      0.025   -7.42e+06   -4.87e+05\n",
       "x5         -3.955e+06   1.77e+06     -2.235      0.025   -7.42e+06   -4.87e+05\n",
       "x6             0.0011   7.45e-05     14.469      0.000       0.001       0.001\n",
       "x7          3.955e+06   1.77e+06      2.235      0.025    4.87e+05    7.42e+06\n",
       "==============================================================================\n",
       "Omnibus:                       65.351   Durbin-Watson:                   1.663\n",
       "Prob(Omnibus):                  0.000   Jarque-Bera (JB):               66.657\n",
       "Skew:                           0.202   Prob(JB):                     3.36e-15\n",
       "Kurtosis:                       3.095   Cond. No.                     6.90e+10\n",
       "==============================================================================\n",
       "\n",
       "Warnings:\n",
       "[1] Standard Errors assume that the covariance matrix of the errors is correctly specified.\n",
       "[2] The smallest eigenvalue is 4.6e-16. This might indicate that there are\n",
       "strong multicollinearity problems or that the design matrix is singular.\n",
       "\"\"\""
      ]
     },
     "execution_count": 70,
     "metadata": {},
     "output_type": "execute_result"
    }
   ],
   "source": [
    "import statsmodels.api as sm\n",
    "\n",
    "X = ratespop[['mortgrate', 'unemp', 'cpi', 'RDEATH2016',\n",
    "       'RNATURALINC2016',  'RDOMESTICMIG2016',\n",
    "       'RBIRTH2016']].values\n",
    "#X = np.concatenate([X, np.ones((X.shape[0], 1))], axis=1)\n",
    "y = ratespop['price']\n",
    "\n",
    "# Note the difference in argument order\n",
    "# optionally, you can chain \"fit()\" to the model object\n",
    "model = sm.OLS(y, X)\n",
    "model = model.fit()\n",
    "predictions = model.predict(X)\n",
    "\n",
    "# Plot the model\n",
    "plt.figure(figsize=(8,6))\n",
    "plt.scatter(predictions, y, s=30, c='r', marker='+', zorder=10)\n",
    "plt.xlabel(\"Predicted Values - $\\hat{y}$\")\n",
    "plt.ylabel(\"Actual Values - $y$\")\n",
    "plt.show()\n",
    "\n",
    "print(\"MSE:\", mean_squared_error(y, predictions))\n",
    "model.summary()"
   ]
  },
  {
   "cell_type": "markdown",
   "metadata": {},
   "source": [
    "#-----------------------LASSO REGRESSION----------------------------------"
   ]
  },
  {
   "cell_type": "code",
   "execution_count": 71,
   "metadata": {},
   "outputs": [
    {
     "name": "stdout",
     "output_type": "stream",
     "text": [
      "[-0.  0. -0. -0.  0.  0.  0.  0.  0.]\n"
     ]
    }
   ],
   "source": [
    "from sklearn.linear_model import Lasso\n",
    "lassoreg = Lasso(alpha=0.001, normalize=True)\n",
    "lassoreg.fit(X_train, y_train)\n",
    "print(lassoreg.coef_)"
   ]
  },
  {
   "cell_type": "code",
   "execution_count": 72,
   "metadata": {},
   "outputs": [
    {
     "name": "stdout",
     "output_type": "stream",
     "text": [
      "0.07108088624989913\n"
     ]
    }
   ],
   "source": [
    "from sklearn import metrics\n",
    "y_pred = lassoreg.predict(X_test)\n",
    "print(np.sqrt(metrics.mean_squared_error(y_test, y_pred)))"
   ]
  },
  {
   "cell_type": "code",
   "execution_count": 73,
   "metadata": {},
   "outputs": [
    {
     "name": "stdout",
     "output_type": "stream",
     "text": [
      "[-0.  0. -0. -0.  0.  0.  0.  0.  0.]\n"
     ]
    }
   ],
   "source": [
    "lassoreg = Lasso(alpha=0.01, normalize=True)\n",
    "lassoreg.fit(X_train, y_train)\n",
    "print(lassoreg.coef_)"
   ]
  },
  {
   "cell_type": "code",
   "execution_count": 74,
   "metadata": {},
   "outputs": [
    {
     "name": "stdout",
     "output_type": "stream",
     "text": [
      "0.07108088624989913\n"
     ]
    }
   ],
   "source": [
    "y_pred = lassoreg.predict(X_test)\n",
    "print(np.sqrt(metrics.mean_squared_error(y_test, y_pred)))"
   ]
  },
  {
   "cell_type": "code",
   "execution_count": 75,
   "metadata": {},
   "outputs": [
    {
     "data": {
      "text/plain": [
       "2.0873807796652318e-07"
      ]
     },
     "execution_count": 75,
     "metadata": {},
     "output_type": "execute_result"
    }
   ],
   "source": [
    "from sklearn.linear_model import LassoCV\n",
    "lassoregcv = LassoCV(n_alphas=10, normalize=True, random_state=1)\n",
    "lassoregcv.fit(X_train, y_train)\n",
    "lassoregcv.alpha_"
   ]
  },
  {
   "cell_type": "code",
   "execution_count": 76,
   "metadata": {},
   "outputs": [
    {
     "name": "stdout",
     "output_type": "stream",
     "text": [
      "[-2.86591163e+00  3.22865799e+00  1.98239965e+01 -0.00000000e+00\n",
      "  8.54962693e-04  1.38444072e-03 -0.00000000e+00  2.71796194e-04\n",
      "  3.75147376e-05]\n"
     ]
    }
   ],
   "source": [
    "print(lassoregcv.coef_)"
   ]
  },
  {
   "cell_type": "code",
   "execution_count": 77,
   "metadata": {},
   "outputs": [
    {
     "data": {
      "text/plain": [
       "<bound method BaseEstimator.get_params of LassoCV(alphas=None, copy_X=True, cv=None, eps=0.001, fit_intercept=True,\n",
       "    max_iter=1000, n_alphas=10, n_jobs=1, normalize=True, positive=False,\n",
       "    precompute='auto', random_state=1, selection='cyclic', tol=0.0001,\n",
       "    verbose=False)>"
      ]
     },
     "execution_count": 77,
     "metadata": {},
     "output_type": "execute_result"
    }
   ],
   "source": [
    "lassoregcv.get_params"
   ]
  },
  {
   "cell_type": "code",
   "execution_count": 78,
   "metadata": {},
   "outputs": [
    {
     "name": "stdout",
     "output_type": "stream",
     "text": [
      "0.06735628825060867\n"
     ]
    }
   ],
   "source": [
    "y_pred = lassoregcv.predict(X_test)\n",
    "print(np.sqrt(metrics.mean_squared_error(y_test, y_pred)))"
   ]
  },
  {
   "cell_type": "markdown",
   "metadata": {},
   "source": [
    "#-------------------------RIDGE REGRESSION----------------------------------------"
   ]
  },
  {
   "cell_type": "code",
   "execution_count": 80,
   "metadata": {},
   "outputs": [
    {
     "name": "stdout",
     "output_type": "stream",
     "text": [
      "0.06737542308202911\n"
     ]
    }
   ],
   "source": [
    "from sklearn.linear_model import Ridge\n",
    "ridgereg = Ridge(alpha=0, normalize=True)\n",
    "ridgereg.fit(X_train, y_train)\n",
    "y_pred = ridgereg.predict(X_test)\n",
    "print(np.sqrt(metrics.mean_squared_error(y_test, y_pred)))"
   ]
  },
  {
   "cell_type": "code",
   "execution_count": 81,
   "metadata": {},
   "outputs": [
    {
     "name": "stdout",
     "output_type": "stream",
     "text": [
      "0.06794678615796394\n"
     ]
    }
   ],
   "source": [
    "# try alpha=0.1\n",
    "ridgereg = Ridge(alpha=0.1, normalize=True)\n",
    "ridgereg.fit(X_train, y_train)\n",
    "y_pred = ridgereg.predict(X_test)\n",
    "print(np.sqrt(metrics.mean_squared_error(y_test, y_pred)))"
   ]
  },
  {
   "cell_type": "code",
   "execution_count": 82,
   "metadata": {},
   "outputs": [
    {
     "name": "stdout",
     "output_type": "stream",
     "text": [
      "[-6.18468122e-01  9.01225749e-01  7.63350498e-01 -7.00553099e-04\n",
      "  5.26872396e-04  5.35901522e-04  5.67662138e-04  5.17370873e-04\n",
      "  7.29780328e-04]\n"
     ]
    }
   ],
   "source": [
    "print(ridgereg.coef_)"
   ]
  },
  {
   "cell_type": "code",
   "execution_count": 83,
   "metadata": {},
   "outputs": [
    {
     "data": {
      "text/plain": [
       "array([1.e-02, 1.e-01, 1.e+00, 1.e+01, 1.e+02])"
      ]
     },
     "execution_count": 83,
     "metadata": {},
     "output_type": "execute_result"
    }
   ],
   "source": [
    "alpha_range = 10.**np.arange(-2, 3)\n",
    "alpha_range"
   ]
  },
  {
   "cell_type": "code",
   "execution_count": 84,
   "metadata": {},
   "outputs": [
    {
     "data": {
      "text/plain": [
       "0.01"
      ]
     },
     "execution_count": 84,
     "metadata": {},
     "output_type": "execute_result"
    }
   ],
   "source": [
    "from sklearn.linear_model import RidgeCV\n",
    "ridgeregcv = RidgeCV(alphas=alpha_range, normalize=True, scoring='neg_mean_squared_error')\n",
    "ridgeregcv.fit(X_train, y_train)\n",
    "ridgeregcv.alpha_"
   ]
  },
  {
   "cell_type": "code",
   "execution_count": 85,
   "metadata": {},
   "outputs": [
    {
     "name": "stdout",
     "output_type": "stream",
     "text": [
      "0.06740000711321437\n"
     ]
    }
   ],
   "source": [
    "y_pred = ridgeregcv.predict(X_test)\n",
    "print(np.sqrt(metrics.mean_squared_error(y_test, y_pred)))"
   ]
  },
  {
   "cell_type": "code",
   "execution_count": 86,
   "metadata": {},
   "outputs": [],
   "source": [
    "#remove the top percentiles from the price changed a lot, and then create a new column\n",
    "#where 0 is price != increase, and 1 is price increased, run a logistic regression and see what\n",
    "q = popdf[\"price\"].quantile(0.99)\n",
    "popdf = popdf[popdf[\"price\"] < q]\n",
    "\n",
    "q = popdf[\"price\"].quantile(0.05)\n",
    "popdf  = popdf[popdf[\"price\"] > q]"
   ]
  },
  {
   "cell_type": "code",
   "execution_count": 87,
   "metadata": {},
   "outputs": [
    {
     "data": {
      "text/plain": [
       "0.012009181539013224"
      ]
     },
     "execution_count": 87,
     "metadata": {},
     "output_type": "execute_result"
    }
   ],
   "source": [
    "popdf['price'].mean()"
   ]
  },
  {
   "cell_type": "code",
   "execution_count": 88,
   "metadata": {},
   "outputs": [
    {
     "name": "stdout",
     "output_type": "stream",
     "text": [
      "price change mean\n",
      "0.012009181539013224\n",
      "price change max\n",
      "0.17510864579218044\n",
      "change in price min\n",
      "-0.11172933175968114\n"
     ]
    }
   ],
   "source": [
    "print('price change mean')\n",
    "print(popdf['price'].mean())\n",
    "print('price change max')\n",
    "print(popdf['price'].max())\n",
    "print('change in price min')\n",
    "print(popdf['price'].min())"
   ]
  },
  {
   "cell_type": "code",
   "execution_count": 89,
   "metadata": {},
   "outputs": [
    {
     "data": {
      "text/plain": [
       "array([-0.02456784, -0.09373109, -0.07749532, ...,  0.13896915,\n",
       "        0.06789361, -0.06578668])"
      ]
     },
     "execution_count": 89,
     "metadata": {},
     "output_type": "execute_result"
    }
   ],
   "source": [
    "popdf['price'].values"
   ]
  },
  {
   "cell_type": "code",
   "execution_count": 91,
   "metadata": {},
   "outputs": [
    {
     "data": {
      "text/plain": [
       "array([0, 1], dtype=int64)"
      ]
     },
     "execution_count": 91,
     "metadata": {},
     "output_type": "execute_result"
    }
   ],
   "source": [
    "#this creates a new column that is bool\n",
    "popdf['pricebool'] = popdf['price'].apply(lambda x: 1 if (x > 0) else 0)\n",
    "popdf['pricebool'].unique()"
   ]
  },
  {
   "cell_type": "code",
   "execution_count": 92,
   "metadata": {},
   "outputs": [
    {
     "data": {
      "text/plain": [
       "LogisticRegression(C=1.0, class_weight=None, dual=False, fit_intercept=True,\n",
       "          intercept_scaling=1, max_iter=100, multi_class='ovr', n_jobs=1,\n",
       "          penalty='l2', random_state=None, solver='liblinear', tol=0.0001,\n",
       "          verbose=0, warm_start=False)"
      ]
     },
     "execution_count": 92,
     "metadata": {},
     "output_type": "execute_result"
    }
   ],
   "source": [
    "from sklearn.linear_model import LogisticRegression\n",
    "y = popdf.pricebool.values\n",
    "X = popdf[['RDEATH2016', 'RNETMIG2016', 'RNATURALINC2016',\n",
    "       'RINTERNATIONALMIG2016', 'RDOMESTICMIG2016', 'RBIRTH2016']].values\n",
    "\n",
    "logreg = LogisticRegression()\n",
    "logreg.fit(X, y)"
   ]
  },
  {
   "cell_type": "code",
   "execution_count": 93,
   "metadata": {},
   "outputs": [
    {
     "name": "stdout",
     "output_type": "stream",
     "text": [
      "                county  RDEATH2016  RNETMIG2016  RNATURALINC2016  \\\n",
      "Year                                                               \n",
      "2011-01-01  Autauga AL    9.218433     6.163804         2.345519   \n",
      "2011-01-01  Baldwin AL    9.868812    15.757654         1.962947   \n",
      "2011-01-01  Barbour AL   11.632586    -1.280316         0.621868   \n",
      "2011-01-01   Blount AL    9.871136     1.755255         3.058662   \n",
      "2011-01-01   Coffee AL   10.092682     2.721845         3.397340   \n",
      "\n",
      "            RINTERNATIONALMIG2016  RDOMESTICMIG2016  RBIRTH2016     price  \\\n",
      "Year                                                                        \n",
      "2011-01-01               0.327282          5.836523   11.563952 -0.024568   \n",
      "2011-01-01               0.989585         14.768069   11.831760 -0.093731   \n",
      "2011-01-01              -0.146322         -1.133994   12.254454 -0.077495   \n",
      "2011-01-01              -0.052136          1.807391   12.929798 -0.086218   \n",
      "2011-01-01               1.728471          0.993374   13.490022 -0.076972   \n",
      "\n",
      "            month  year  pricebool  \n",
      "Year                                \n",
      "2011-01-01      1  2011          0  \n",
      "2011-01-01      1  2011          0  \n",
      "2011-01-01      1  2011          0  \n",
      "2011-01-01      1  2011          0  \n",
      "2011-01-01      1  2011          0  \n"
     ]
    }
   ],
   "source": [
    "print(popdf[0:5])"
   ]
  },
  {
   "cell_type": "code",
   "execution_count": 94,
   "metadata": {},
   "outputs": [
    {
     "name": "stdout",
     "output_type": "stream",
     "text": [
      "Logreg intercept: [-0.2385668]\n",
      "Logreg coef(s): [[0.00719765 0.02987804 0.02084355 0.02732996 0.00254808 0.0280412 ]]\n",
      "Logreg predicted probabilities: [[0.39917131 0.60082869]\n",
      " [0.32286412 0.67713588]\n",
      " [0.4609273  0.5390727 ]\n",
      " [0.42203462 0.57796538]\n",
      " [0.39789124 0.60210876]]\n",
      "[[ 9.21843323  6.16380447  2.34551851  0.32728165  5.83652281 11.56395174]\n",
      " [ 9.86881239 15.75765441  1.96294734  0.98958502 14.76806939 11.83175973]\n",
      " [11.63258587 -1.28031605  0.6218678  -0.14632184 -1.13399422 12.25445367]\n",
      " [ 9.87113648  1.7552549   3.05866201 -0.05213628  1.80739119 12.92979849]\n",
      " [10.09268181  2.72184529  3.39733974  1.7284711   0.99337419 13.49002156]]\n"
     ]
    }
   ],
   "source": [
    "print ('Logreg intercept:', logreg.intercept_)\n",
    "print ('Logreg coef(s):', logreg.coef_)\n",
    "print ('Logreg predicted probabilities:', logreg.predict_proba(X[0:5,:]))\n",
    "print(X[0:5,:])"
   ]
  },
  {
   "cell_type": "markdown",
   "metadata": {},
   "source": [
    "#---------------------Multinomial LogReg------------------------"
   ]
  },
  {
   "cell_type": "code",
   "execution_count": 95,
   "metadata": {},
   "outputs": [],
   "source": [
    "indep_vars = ['RDEATH2016', 'RNETMIG2016', 'RNATURALINC2016',\n",
    "       'RINTERNATIONALMIG2016', 'RDOMESTICMIG2016', 'RBIRTH2016']\n",
    "x_mat = sm.add_constant(popdf[indep_vars])\n",
    "y_vec = popdf.pricebool\n",
    "glm_logit = sm.GLM(y_vec, \n",
    "                   x_mat,\n",
    "                   sm.families.Binomial(sm.families.links.logit)).fit()"
   ]
  },
  {
   "cell_type": "code",
   "execution_count": 96,
   "metadata": {},
   "outputs": [
    {
     "data": {
      "text/html": [
       "<table class=\"simpletable\">\n",
       "<caption>Generalized Linear Model Regression Results</caption>\n",
       "<tr>\n",
       "  <th>Dep. Variable:</th>      <td>pricebool</td>    <th>  No. Observations:  </th>  <td>  8764</td> \n",
       "</tr>\n",
       "<tr>\n",
       "  <th>Model:</th>                 <td>GLM</td>       <th>  Df Residuals:      </th>  <td>  8757</td> \n",
       "</tr>\n",
       "<tr>\n",
       "  <th>Model Family:</th>       <td>Binomial</td>     <th>  Df Model:          </th>  <td>     6</td> \n",
       "</tr>\n",
       "<tr>\n",
       "  <th>Link Function:</th>        <td>logit</td>      <th>  Scale:             </th>    <td>1.0</td>  \n",
       "</tr>\n",
       "<tr>\n",
       "  <th>Method:</th>               <td>IRLS</td>       <th>  Log-Likelihood:    </th> <td> -5887.4</td>\n",
       "</tr>\n",
       "<tr>\n",
       "  <th>Date:</th>           <td>Sat, 07 Apr 2018</td> <th>  Deviance:          </th> <td>  11775.</td>\n",
       "</tr>\n",
       "<tr>\n",
       "  <th>Time:</th>               <td>14:12:02</td>     <th>  Pearson chi2:      </th> <td>8.79e+03</td>\n",
       "</tr>\n",
       "<tr>\n",
       "  <th>No. Iterations:</th>        <td>100</td>       <th>                     </th>     <td> </td>   \n",
       "</tr>\n",
       "</table>\n",
       "<table class=\"simpletable\">\n",
       "<tr>\n",
       "            <td></td>               <th>coef</th>     <th>std err</th>      <th>z</th>      <th>P>|z|</th>  <th>[0.025</th>    <th>0.975]</th>  \n",
       "</tr>\n",
       "<tr>\n",
       "  <th>const</th>                 <td>   -0.2462</td> <td>    0.183</td> <td>   -1.347</td> <td> 0.178</td> <td>   -0.604</td> <td>    0.112</td>\n",
       "</tr>\n",
       "<tr>\n",
       "  <th>RDEATH2016</th>            <td>-4.442e+07</td> <td> 5.71e+07</td> <td>   -0.778</td> <td> 0.437</td> <td>-1.56e+08</td> <td> 6.75e+07</td>\n",
       "</tr>\n",
       "<tr>\n",
       "  <th>RNETMIG2016</th>           <td> 1.953e+06</td> <td> 1.99e+07</td> <td>    0.098</td> <td> 0.922</td> <td> -3.7e+07</td> <td> 4.09e+07</td>\n",
       "</tr>\n",
       "<tr>\n",
       "  <th>RNATURALINC2016</th>       <td>-4.442e+07</td> <td> 5.71e+07</td> <td>   -0.778</td> <td> 0.437</td> <td>-1.56e+08</td> <td> 6.75e+07</td>\n",
       "</tr>\n",
       "<tr>\n",
       "  <th>RINTERNATIONALMIG2016</th> <td>-1.953e+06</td> <td> 1.99e+07</td> <td>   -0.098</td> <td> 0.922</td> <td>-4.09e+07</td> <td>  3.7e+07</td>\n",
       "</tr>\n",
       "<tr>\n",
       "  <th>RDOMESTICMIG2016</th>      <td>-1.953e+06</td> <td> 1.99e+07</td> <td>   -0.098</td> <td> 0.922</td> <td>-4.09e+07</td> <td>  3.7e+07</td>\n",
       "</tr>\n",
       "<tr>\n",
       "  <th>RBIRTH2016</th>            <td> 4.442e+07</td> <td> 5.71e+07</td> <td>    0.778</td> <td> 0.437</td> <td>-6.75e+07</td> <td> 1.56e+08</td>\n",
       "</tr>\n",
       "</table>"
      ],
      "text/plain": [
       "<class 'statsmodels.iolib.summary.Summary'>\n",
       "\"\"\"\n",
       "                 Generalized Linear Model Regression Results                  \n",
       "==============================================================================\n",
       "Dep. Variable:              pricebool   No. Observations:                 8764\n",
       "Model:                            GLM   Df Residuals:                     8757\n",
       "Model Family:                Binomial   Df Model:                            6\n",
       "Link Function:                  logit   Scale:                             1.0\n",
       "Method:                          IRLS   Log-Likelihood:                -5887.4\n",
       "Date:                Sat, 07 Apr 2018   Deviance:                       11775.\n",
       "Time:                        14:12:02   Pearson chi2:                 8.79e+03\n",
       "No. Iterations:                   100                                         \n",
       "=========================================================================================\n",
       "                            coef    std err          z      P>|z|      [0.025      0.975]\n",
       "-----------------------------------------------------------------------------------------\n",
       "const                    -0.2462      0.183     -1.347      0.178      -0.604       0.112\n",
       "RDEATH2016            -4.442e+07   5.71e+07     -0.778      0.437   -1.56e+08    6.75e+07\n",
       "RNETMIG2016            1.953e+06   1.99e+07      0.098      0.922    -3.7e+07    4.09e+07\n",
       "RNATURALINC2016       -4.442e+07   5.71e+07     -0.778      0.437   -1.56e+08    6.75e+07\n",
       "RINTERNATIONALMIG2016 -1.953e+06   1.99e+07     -0.098      0.922   -4.09e+07     3.7e+07\n",
       "RDOMESTICMIG2016      -1.953e+06   1.99e+07     -0.098      0.922   -4.09e+07     3.7e+07\n",
       "RBIRTH2016             4.442e+07   5.71e+07      0.778      0.437   -6.75e+07    1.56e+08\n",
       "=========================================================================================\n",
       "\"\"\""
      ]
     },
     "execution_count": 96,
     "metadata": {},
     "output_type": "execute_result"
    }
   ],
   "source": [
    "glm_logit.summary()"
   ]
  },
  {
   "cell_type": "code",
   "execution_count": 97,
   "metadata": {},
   "outputs": [
    {
     "data": {
      "text/plain": [
       "0.5712090638488149"
      ]
     },
     "execution_count": 97,
     "metadata": {},
     "output_type": "execute_result"
    }
   ],
   "source": [
    "import math\n",
    "math.exp(-0.5600)"
   ]
  },
  {
   "cell_type": "code",
   "execution_count": 98,
   "metadata": {},
   "outputs": [
    {
     "name": "stdout",
     "output_type": "stream",
     "text": [
      "                    Robust linear Model Regression Results                    \n",
      "==============================================================================\n",
      "Dep. Variable:                  price   No. Observations:                 8764\n",
      "Model:                            RLM   Df Residuals:                     8760\n",
      "Method:                          IRLS   Df Model:                            3\n",
      "Norm:                   TukeyBiweight                                         \n",
      "Scale Est.:                       mad                                         \n",
      "Cov Type:                          H1                                         \n",
      "Date:                Sat, 07 Apr 2018                                         \n",
      "Time:                        14:12:33                                         \n",
      "No. Iterations:                    50                                         \n",
      "===================================================================================\n",
      "                      coef    std err          z      P>|z|      [0.025      0.975]\n",
      "-----------------------------------------------------------------------------------\n",
      "Intercept           0.0146      0.006      2.414      0.016       0.003       0.027\n",
      "RNATURALINC2016 -1.273e+06   2.04e+06     -0.623      0.533   -5.28e+06    2.73e+06\n",
      "RBIRTH2016       1.273e+06   2.04e+06      0.623      0.533   -2.73e+06    5.28e+06\n",
      "RDEATH2016      -1.273e+06   2.04e+06     -0.623      0.533   -5.28e+06    2.73e+06\n",
      "===================================================================================\n",
      "\n",
      "If the model instance has been used for another fit with different fit\n",
      "parameters, then the fit options might not be the correct ones anymore .\n"
     ]
    }
   ],
   "source": [
    "#http://www.statsmodels.org/dev/examples/notebooks/generated/regression_plots.html\n",
    "\n",
    "from statsmodels.formula.api import rlm\n",
    "price_model = rlm(\"price ~ RNATURALINC2016 + RBIRTH2016 + RDEATH2016\", data=popdf, \n",
    "                      M=sm.robust.norms.TukeyBiweight(3)).fit(conv=\"weights\")\n",
    "print(price_model.summary())"
   ]
  },
  {
   "cell_type": "code",
   "execution_count": 99,
   "metadata": {},
   "outputs": [
    {
     "data": {
      "image/png": "[encoded data removed]",
      "text/plain": [
       "<matplotlib.figure.Figure at 0x27a0cdb6d68>"
      ]
     },
     "metadata": {},
     "output_type": "display_data"
    }
   ],
   "source": [
    "fig = plt.figure(figsize=(12,8))\n",
    "fig = sm.graphics.plot_partregress_grid(price_model, fig=fig)"
   ]
  },
  {
   "cell_type": "markdown",
   "metadata": {},
   "source": [
    "#----------------------Decision Tree-----------------------"
   ]
  },
  {
   "cell_type": "code",
   "execution_count": 100,
   "metadata": {},
   "outputs": [
    {
     "data": {
      "text/plain": [
       "DecisionTreeRegressor(criterion='mse', max_depth=3, max_features=None,\n",
       "           max_leaf_nodes=None, min_impurity_decrease=0.0,\n",
       "           min_impurity_split=None, min_samples_leaf=1,\n",
       "           min_samples_split=2, min_weight_fraction_leaf=0.0,\n",
       "           presort=False, random_state=None, splitter='best')"
      ]
     },
     "execution_count": 100,
     "metadata": {},
     "output_type": "execute_result"
    }
   ],
   "source": [
    "from sklearn.tree import DecisionTreeRegressor\n",
    "x = ratespop['mortgrate']\n",
    "y = ratespop['price']\n",
    "\n",
    "dtree = DecisionTreeRegressor(max_depth=3)\n",
    "dtree.fit(x[:, np.newaxis], y)"
   ]
  },
  {
   "cell_type": "code",
   "execution_count": 101,
   "metadata": {},
   "outputs": [
    {
     "data": {
      "image/png": "[encoded data removed]",
      "text/plain": [
       "<IPython.core.display.Image object>"
      ]
     },
     "execution_count": 101,
     "metadata": {},
     "output_type": "execute_result"
    }
   ],
   "source": [
    "from sklearn.externals.six import StringIO  \n",
    "from IPython.display import Image  \n",
    "from sklearn.tree import export_graphviz\n",
    "import pydotplus\n",
    "\n",
    "dot_data = StringIO()  \n",
    "\n",
    "export_graphviz(dtree, out_file=dot_data,  \n",
    "                filled=True, rounded=True,\n",
    "                special_characters=True)  \n",
    "\n",
    "graph = pydotplus.graph_from_dot_data(dot_data.getvalue())  \n",
    "Image(graph.create_png())  "
   ]
  },
  {
   "cell_type": "markdown",
   "metadata": {},
   "source": [
    "                                            ARIMA"
   ]
  },
  {
   "cell_type": "code",
   "execution_count": 179,
   "metadata": {},
   "outputs": [
    {
     "data": {
      "text/plain": [
       "Text(0.5,1,'Seasonal Change in Unemployment Rate')"
      ]
     },
     "execution_count": 179,
     "metadata": {},
     "output_type": "execute_result"
    },
    {
     "data": {
      "image/png": "[encoded data removed]",
      "text/plain": [
       "<matplotlib.figure.Figure at 0x27a055e2748>"
      ]
     },
     "metadata": {},
     "output_type": "display_data"
    }
   ],
   "source": [
    "from statsmodels.tsa.seasonal import seasonal_decompose\n",
    "from datetime import datetime\n",
    "from datetime import timedelta\n",
    "import statsmodels.api as sm  \n",
    "from statsmodels.tsa.stattools import acf  \n",
    "from statsmodels.tsa.stattools import pacf\n",
    "\n",
    "\n",
    "decomposition = seasonal_decompose(rates.mortgrate.dropna(), freq=12).seasonal  \n",
    "decomposition.plot();\n",
    "plt.title('Seasonal Change in Unemployment Rate')"
   ]
  },
  {
   "cell_type": "code",
   "execution_count": 168,
   "metadata": {},
   "outputs": [
    {
     "name": "stdout",
     "output_type": "stream",
     "text": [
      "                                 Statespace Model Results                                \n",
      "=========================================================================================\n",
      "Dep. Variable:                                 y   No. Observations:                 9320\n",
      "Model:             SARIMAX(0, 1, 1)x(0, 1, 1, 4)   Log Likelihood               12595.478\n",
      "Date:                           Sun, 08 Apr 2018   AIC                         -25184.956\n",
      "Time:                                   14:25:02   BIC                         -25163.536\n",
      "Sample:                                        0   HQIC                        -25177.680\n",
      "                                          - 9320                                         \n",
      "Covariance Type:                             opg                                         \n",
      "==============================================================================\n",
      "                 coef    std err          z      P>|z|      [0.025      0.975]\n",
      "------------------------------------------------------------------------------\n",
      "ma.L1         -0.9543      0.003   -308.217      0.000      -0.960      -0.948\n",
      "ma.S.L4       -0.9997      0.002   -415.807      0.000      -1.004      -0.995\n",
      "sigma2         0.0039    5.3e-05     73.636      0.000       0.004       0.004\n",
      "===================================================================================\n",
      "Ljung-Box (Q):                      105.07   Jarque-Bera (JB):                68.62\n",
      "Prob(Q):                              0.00   Prob(JB):                         0.00\n",
      "Heteroskedasticity (H):               0.99   Skew:                             0.10\n",
      "Prob(H) (two-sided):                  0.82   Kurtosis:                         3.37\n",
      "===================================================================================\n",
      "\n",
      "Warnings:\n",
      "[1] Covariance matrix calculated using the outer product of gradients (complex-step).\n"
     ]
    }
   ],
   "source": [
    "import statsmodels.api as sm\n",
    "data = (ratespop['price']).values\n",
    "model = sm.tsa.statespace.SARIMAX(data, order=(0,1,1), seasonal_order=(0,1,1,4))\n",
    "results = model.fit()\n",
    "print(results.summary())"
   ]
  },
  {
   "cell_type": "code",
   "execution_count": 177,
   "metadata": {},
   "outputs": [
    {
     "data": {
      "text/plain": [
       "[<matplotlib.lines.Line2D at 0x27a07078668>]"
      ]
     },
     "execution_count": 177,
     "metadata": {},
     "output_type": "execute_result"
    },
    {
     "data": {
      "image/png": "[encoded data removed]",
      "text/plain": [
       "<matplotlib.figure.Figure at 0x27a06b14518>"
      ]
     },
     "metadata": {},
     "output_type": "display_data"
    }
   ],
   "source": [
    "# Don't plot the first five values to account for data loss when differencing (d=1 + D=5).\n",
    "residuals = results.resid[5:]\n",
    "plt.plot(residuals)"
   ]
  },
  {
   "cell_type": "code",
   "execution_count": 199,
   "metadata": {},
   "outputs": [
    {
     "data": {
      "image/png": "[encoded data removed]",
      "text/plain": [
       "<matplotlib.figure.Figure at 0x27a0519ec18>"
      ]
     },
     "metadata": {},
     "output_type": "display_data"
    }
   ],
   "source": [
    "from statsmodels.graphics.tsaplots import plot_acf, plot_pacf\n",
    "fig, ax = plt.subplots(figsize=(10,3))\n",
    "plot_acf(residuals, lags=30, ax=ax)\n",
    "plt.show()"
   ]
  },
  {
   "cell_type": "code",
   "execution_count": 200,
   "metadata": {},
   "outputs": [
    {
     "data": {
      "image/png": "[encoded data removed]",
      "text/plain": [
       "<matplotlib.figure.Figure at 0x27a051d15c0>"
      ]
     },
     "metadata": {},
     "output_type": "display_data"
    }
   ],
   "source": [
    "fig, ax = plt.subplots(figsize=(10,3))\n",
    "plot_pacf(residuals, lags=30, ax=ax)\n",
    "plt.show()"
   ]
  },
  {
   "cell_type": "code",
   "execution_count": 205,
   "metadata": {},
   "outputs": [
    {
     "data": {
      "text/plain": [
       "array([0.03270043, 0.03054033, 0.02930299, 0.03131334, 0.03273596,\n",
       "       0.03057586, 0.02933852, 0.03134887, 0.03277149, 0.03061139,\n",
       "       0.02937405, 0.0313844 , 0.03280702, 0.03064692, 0.02940957,\n",
       "       0.03141993, 0.03284254, 0.03068245, 0.0294451 , 0.03145546,\n",
       "       0.03287807, 0.03071797, 0.02948063, 0.03149098, 0.0329136 ,\n",
       "       0.0307535 , 0.02951616, 0.03152651, 0.03294913, 0.03078903])"
      ]
     },
     "execution_count": 205,
     "metadata": {},
     "output_type": "execute_result"
    }
   ],
   "source": [
    "# # Forecasting:\n",
    "# res = model.fit()\n",
    "# preds = res.forecast(30)\n",
    "# fcast = np.concatenate((data, preds), axis=0)\n",
    "\n",
    "# plt.figure();\n",
    "# plt.plot(data, 'o' , fcast, 'r--');\n",
    "preds"
   ]
  },
  {
   "cell_type": "code",
   "execution_count": null,
   "metadata": {},
   "outputs": [],
   "source": []
  }
 ],
 "metadata": {
  "kernelspec": {
   "display_name": "Python 3",
   "language": "python",
   "name": "python3"
  },
  "language_info": {
   "codemirror_mode": {
    "name": "ipython",
    "version": 3
   },
   "file_extension": ".py",
   "mimetype": "text/x-python",
   "name": "python",
   "nbconvert_exporter": "python",
   "pygments_lexer": "ipython3",
   "version": "3.6.4"
  }
 },
 "nbformat": 4,
 "nbformat_minor": 2
}
